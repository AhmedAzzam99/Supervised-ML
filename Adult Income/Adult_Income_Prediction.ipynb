{
 "cells": [
  {
   "cell_type": "markdown",
   "id": "670e8eae",
   "metadata": {},
   "source": [
    "$$ Ahmed \\space Azzam $$\n",
    "\n",
    "$$ Adult \\space Income \\space Prediction $$"
   ]
  },
  {
   "cell_type": "markdown",
   "id": "666bc80c",
   "metadata": {
    "id": "666bc80c"
   },
   "source": [
    "# Import Libraries"
   ]
  },
  {
   "cell_type": "code",
   "execution_count": 2,
   "id": "c6565c9d",
   "metadata": {
    "id": "c6565c9d"
   },
   "outputs": [],
   "source": [
    "import numpy as np\n",
    "import pandas as pd\n",
    "import matplotlib.pyplot as plt\n",
    "from scipy.stats import shapiro\n",
    "from sklearn.preprocessing import MinMaxScaler\n",
    "from sklearn.preprocessing import StandardScaler"
   ]
  },
  {
   "cell_type": "markdown",
   "id": "ac9a12ed",
   "metadata": {
    "id": "ac9a12ed"
   },
   "source": [
    "# Reading Data"
   ]
  },
  {
   "cell_type": "code",
   "execution_count": 3,
   "id": "1a4f04fb",
   "metadata": {
    "colab": {
     "base_uri": "https://localhost:8080/",
     "height": 340
    },
    "id": "1a4f04fb",
    "outputId": "24f2e858-d25e-4749-d77e-eb99af77b7e9"
   },
   "outputs": [
    {
     "data": {
      "text/html": [
       "<div>\n",
       "<style scoped>\n",
       "    .dataframe tbody tr th:only-of-type {\n",
       "        vertical-align: middle;\n",
       "    }\n",
       "\n",
       "    .dataframe tbody tr th {\n",
       "        vertical-align: top;\n",
       "    }\n",
       "\n",
       "    .dataframe thead th {\n",
       "        text-align: right;\n",
       "    }\n",
       "</style>\n",
       "<table border=\"1\" class=\"dataframe\">\n",
       "  <thead>\n",
       "    <tr style=\"text-align: right;\">\n",
       "      <th></th>\n",
       "      <th>age</th>\n",
       "      <th>workclass</th>\n",
       "      <th>fnlwgt</th>\n",
       "      <th>education</th>\n",
       "      <th>education.num</th>\n",
       "      <th>marital.status</th>\n",
       "      <th>occupation</th>\n",
       "      <th>relationship</th>\n",
       "      <th>race</th>\n",
       "      <th>sex</th>\n",
       "      <th>capital.gain</th>\n",
       "      <th>capital.loss</th>\n",
       "      <th>hours.per.week</th>\n",
       "      <th>native.country</th>\n",
       "      <th>income</th>\n",
       "    </tr>\n",
       "  </thead>\n",
       "  <tbody>\n",
       "    <tr>\n",
       "      <th>0</th>\n",
       "      <td>90</td>\n",
       "      <td>?</td>\n",
       "      <td>77053</td>\n",
       "      <td>HS-grad</td>\n",
       "      <td>9</td>\n",
       "      <td>Widowed</td>\n",
       "      <td>?</td>\n",
       "      <td>Not-in-family</td>\n",
       "      <td>White</td>\n",
       "      <td>Female</td>\n",
       "      <td>0</td>\n",
       "      <td>4356</td>\n",
       "      <td>40</td>\n",
       "      <td>United-States</td>\n",
       "      <td>&lt;=50K</td>\n",
       "    </tr>\n",
       "    <tr>\n",
       "      <th>1</th>\n",
       "      <td>82</td>\n",
       "      <td>Private</td>\n",
       "      <td>132870</td>\n",
       "      <td>HS-grad</td>\n",
       "      <td>9</td>\n",
       "      <td>Widowed</td>\n",
       "      <td>Exec-managerial</td>\n",
       "      <td>Not-in-family</td>\n",
       "      <td>White</td>\n",
       "      <td>Female</td>\n",
       "      <td>0</td>\n",
       "      <td>4356</td>\n",
       "      <td>18</td>\n",
       "      <td>United-States</td>\n",
       "      <td>&lt;=50K</td>\n",
       "    </tr>\n",
       "    <tr>\n",
       "      <th>2</th>\n",
       "      <td>66</td>\n",
       "      <td>?</td>\n",
       "      <td>186061</td>\n",
       "      <td>Some-college</td>\n",
       "      <td>10</td>\n",
       "      <td>Widowed</td>\n",
       "      <td>?</td>\n",
       "      <td>Unmarried</td>\n",
       "      <td>Black</td>\n",
       "      <td>Female</td>\n",
       "      <td>0</td>\n",
       "      <td>4356</td>\n",
       "      <td>40</td>\n",
       "      <td>United-States</td>\n",
       "      <td>&lt;=50K</td>\n",
       "    </tr>\n",
       "    <tr>\n",
       "      <th>3</th>\n",
       "      <td>54</td>\n",
       "      <td>Private</td>\n",
       "      <td>140359</td>\n",
       "      <td>7th-8th</td>\n",
       "      <td>4</td>\n",
       "      <td>Divorced</td>\n",
       "      <td>Machine-op-inspct</td>\n",
       "      <td>Unmarried</td>\n",
       "      <td>White</td>\n",
       "      <td>Female</td>\n",
       "      <td>0</td>\n",
       "      <td>3900</td>\n",
       "      <td>40</td>\n",
       "      <td>United-States</td>\n",
       "      <td>&lt;=50K</td>\n",
       "    </tr>\n",
       "    <tr>\n",
       "      <th>4</th>\n",
       "      <td>41</td>\n",
       "      <td>Private</td>\n",
       "      <td>264663</td>\n",
       "      <td>Some-college</td>\n",
       "      <td>10</td>\n",
       "      <td>Separated</td>\n",
       "      <td>Prof-specialty</td>\n",
       "      <td>Own-child</td>\n",
       "      <td>White</td>\n",
       "      <td>Female</td>\n",
       "      <td>0</td>\n",
       "      <td>3900</td>\n",
       "      <td>40</td>\n",
       "      <td>United-States</td>\n",
       "      <td>&lt;=50K</td>\n",
       "    </tr>\n",
       "  </tbody>\n",
       "</table>\n",
       "</div>"
      ],
      "text/plain": [
       "   age workclass  fnlwgt     education  education.num marital.status  \\\n",
       "0   90         ?   77053       HS-grad              9        Widowed   \n",
       "1   82   Private  132870       HS-grad              9        Widowed   \n",
       "2   66         ?  186061  Some-college             10        Widowed   \n",
       "3   54   Private  140359       7th-8th              4       Divorced   \n",
       "4   41   Private  264663  Some-college             10      Separated   \n",
       "\n",
       "          occupation   relationship   race     sex  capital.gain  \\\n",
       "0                  ?  Not-in-family  White  Female             0   \n",
       "1    Exec-managerial  Not-in-family  White  Female             0   \n",
       "2                  ?      Unmarried  Black  Female             0   \n",
       "3  Machine-op-inspct      Unmarried  White  Female             0   \n",
       "4     Prof-specialty      Own-child  White  Female             0   \n",
       "\n",
       "   capital.loss  hours.per.week native.country income  \n",
       "0          4356              40  United-States  <=50K  \n",
       "1          4356              18  United-States  <=50K  \n",
       "2          4356              40  United-States  <=50K  \n",
       "3          3900              40  United-States  <=50K  \n",
       "4          3900              40  United-States  <=50K  "
      ]
     },
     "execution_count": 3,
     "metadata": {},
     "output_type": "execute_result"
    }
   ],
   "source": [
    "df= pd.read_csv('G://iTi matrial//ML//adult.csv')\n",
    "df.head()"
   ]
  },
  {
   "cell_type": "code",
   "execution_count": 4,
   "id": "7rxUDHhiDwv4",
   "metadata": {
    "colab": {
     "base_uri": "https://localhost:8080/"
    },
    "id": "7rxUDHhiDwv4",
    "outputId": "46c4f4f1-8381-4abc-a9b1-5631842e5c4c"
   },
   "outputs": [
    {
     "name": "stdout",
     "output_type": "stream",
     "text": [
      "<class 'pandas.core.frame.DataFrame'>\n",
      "RangeIndex: 32561 entries, 0 to 32560\n",
      "Data columns (total 15 columns):\n",
      " #   Column          Non-Null Count  Dtype \n",
      "---  ------          --------------  ----- \n",
      " 0   age             32561 non-null  int64 \n",
      " 1   workclass       32561 non-null  object\n",
      " 2   fnlwgt          32561 non-null  int64 \n",
      " 3   education       32561 non-null  object\n",
      " 4   education.num   32561 non-null  int64 \n",
      " 5   marital.status  32561 non-null  object\n",
      " 6   occupation      32561 non-null  object\n",
      " 7   relationship    32561 non-null  object\n",
      " 8   race            32561 non-null  object\n",
      " 9   sex             32561 non-null  object\n",
      " 10  capital.gain    32561 non-null  int64 \n",
      " 11  capital.loss    32561 non-null  int64 \n",
      " 12  hours.per.week  32561 non-null  int64 \n",
      " 13  native.country  32561 non-null  object\n",
      " 14  income          32561 non-null  object\n",
      "dtypes: int64(6), object(9)\n",
      "memory usage: 3.7+ MB\n"
     ]
    }
   ],
   "source": [
    "df.info()"
   ]
  },
  {
   "cell_type": "code",
   "execution_count": 5,
   "id": "Dn-p19k4D4EP",
   "metadata": {
    "colab": {
     "base_uri": "https://localhost:8080/"
    },
    "id": "Dn-p19k4D4EP",
    "outputId": "aaa81597-ca1a-471e-da4a-04d49ac98a76"
   },
   "outputs": [
    {
     "data": {
      "text/plain": [
       "32561"
      ]
     },
     "execution_count": 5,
     "metadata": {},
     "output_type": "execute_result"
    }
   ],
   "source": [
    "len(df)"
   ]
  },
  {
   "cell_type": "markdown",
   "id": "1cd3c150",
   "metadata": {
    "id": "1cd3c150"
   },
   "source": [
    "# Label Encoding"
   ]
  },
  {
   "cell_type": "code",
   "execution_count": 35,
   "id": "1e925f47",
   "metadata": {
    "id": "1e925f47"
   },
   "outputs": [],
   "source": [
    "from sklearn.preprocessing import LabelEncoder\n",
    "df['income']= LabelEncoder().fit_transform(df['income'])"
   ]
  },
  {
   "cell_type": "markdown",
   "id": "761faaeb",
   "metadata": {
    "id": "761faaeb"
   },
   "source": [
    "# EDA"
   ]
  },
  {
   "cell_type": "markdown",
   "id": "d99caa03",
   "metadata": {
    "id": "d99caa03"
   },
   "source": [
    "# Fixing the common nan values"
   ]
  },
  {
   "cell_type": "code",
   "execution_count": 36,
   "id": "36b68675",
   "metadata": {
    "colab": {
     "base_uri": "https://localhost:8080/"
    },
    "id": "36b68675",
    "outputId": "e9b313e2-554e-4024-b429-698a677ba15c"
   },
   "outputs": [
    {
     "name": "stderr",
     "output_type": "stream",
     "text": [
      "C:\\Temp\\ipykernel_3708\\1070894677.py:3: SettingWithCopyWarning: \n",
      "A value is trying to be set on a copy of a slice from a DataFrame\n",
      "\n",
      "See the caveats in the documentation: https://pandas.pydata.org/pandas-docs/stable/user_guide/indexing.html#returning-a-view-versus-a-copy\n",
      "  df['workclass'][df['workclass'] == '?'] = most_freq_attrib\n",
      "C:\\Temp\\ipykernel_3708\\1070894677.py:7: SettingWithCopyWarning: \n",
      "A value is trying to be set on a copy of a slice from a DataFrame\n",
      "\n",
      "See the caveats in the documentation: https://pandas.pydata.org/pandas-docs/stable/user_guide/indexing.html#returning-a-view-versus-a-copy\n",
      "  df['occupation'][df['occupation'] == '?'] = most_freq_attrib\n",
      "C:\\Temp\\ipykernel_3708\\1070894677.py:11: SettingWithCopyWarning: \n",
      "A value is trying to be set on a copy of a slice from a DataFrame\n",
      "\n",
      "See the caveats in the documentation: https://pandas.pydata.org/pandas-docs/stable/user_guide/indexing.html#returning-a-view-versus-a-copy\n",
      "  df['native.country'][df['native.country'] == '?'] = \"United-States\"\n"
     ]
    }
   ],
   "source": [
    "attrib, counts = np.unique(df['workclass'], return_counts = True)\n",
    "most_freq_attrib = attrib[np.argmax(counts, axis = 0)]\n",
    "df['workclass'][df['workclass'] == '?'] = most_freq_attrib \n",
    "\n",
    "attrib, counts = np.unique(df['occupation'], return_counts = True)\n",
    "most_freq_attrib = attrib[np.argmax(counts, axis = 0)]\n",
    "df['occupation'][df['occupation'] == '?'] = most_freq_attrib \n",
    "\n",
    "attrib, counts = np.unique(df['native.country'], return_counts = True)\n",
    "most_freq_attrib = attrib[np.argmax(counts, axis = 0)]\n",
    "df['native.country'][df['native.country'] == '?'] = \"United-States\" "
   ]
  },
  {
   "cell_type": "markdown",
   "id": "2db9da70",
   "metadata": {
    "id": "2db9da70"
   },
   "source": [
    "# Visualize the data (all the columns)"
   ]
  },
  {
   "cell_type": "code",
   "execution_count": 37,
   "id": "cc2474d2",
   "metadata": {
    "colab": {
     "base_uri": "https://localhost:8080/",
     "height": 607
    },
    "id": "cc2474d2",
    "outputId": "451c8e78-3b49-4295-e6e2-9feebcfc635c"
   },
   "outputs": [
    {
     "data": {
      "image/png": "[encoded data removed]",
      "text/plain": [
       "<Figure size 1080x720 with 9 Axes>"
      ]
     },
     "metadata": {
      "needs_background": "light"
     },
     "output_type": "display_data"
    }
   ],
   "source": [
    "df.hist(figsize=(15,10),bins=20);"
   ]
  },
  {
   "cell_type": "code",
   "execution_count": 38,
   "id": "f3f47411",
   "metadata": {
    "id": "f3f47411"
   },
   "outputs": [
    {
     "name": "stderr",
     "output_type": "stream",
     "text": [
      "C:\\Temp\\ipykernel_3708\\1568254755.py:1: FutureWarning: Dropping of nuisance columns in DataFrame reductions (with 'numeric_only=None') is deprecated; in a future version this will raise TypeError.  Select only valid columns before calling the reduction.\n",
      "  df.var()\n"
     ]
    },
    {
     "data": {
      "text/plain": [
       "age               1.860614e+02\n",
       "fnlwgt            1.114080e+10\n",
       "education.num     6.618890e+00\n",
       "capital.gain      5.454254e+07\n",
       "capital.loss      1.623769e+05\n",
       "hours.per.week    1.524590e+02\n",
       "income            1.828259e-01\n",
       "dtype: float64"
      ]
     },
     "execution_count": 38,
     "metadata": {},
     "output_type": "execute_result"
    }
   ],
   "source": [
    "df.var()"
   ]
  },
  {
   "cell_type": "code",
   "execution_count": 39,
   "id": "9beaec57",
   "metadata": {
    "id": "9beaec57"
   },
   "outputs": [],
   "source": [
    "from sklearn.model_selection import train_test_split \n",
    "train_data,val_data= train_test_split(df, test_size= 0.20, random_state=0) "
   ]
  },
  {
   "cell_type": "code",
   "execution_count": 40,
   "id": "d99b9ba2",
   "metadata": {
    "colab": {
     "base_uri": "https://localhost:8080/"
    },
    "id": "d99b9ba2",
    "outputId": "c21026d1-de45-46e7-e48e-28e9a996a7d9"
   },
   "outputs": [
    {
     "data": {
      "text/plain": [
       "15"
      ]
     },
     "execution_count": 40,
     "metadata": {},
     "output_type": "execute_result"
    }
   ],
   "source": [
    "len(df.columns)"
   ]
  },
  {
   "cell_type": "code",
   "execution_count": 41,
   "id": "330656b0",
   "metadata": {
    "id": "330656b0"
   },
   "outputs": [],
   "source": [
    "train_data=train_data.apply(LabelEncoder().fit_transform)"
   ]
  },
  {
   "cell_type": "code",
   "execution_count": 42,
   "id": "c9941c2c",
   "metadata": {
    "colab": {
     "base_uri": "https://localhost:8080/",
     "height": 270
    },
    "id": "c9941c2c",
    "outputId": "27c88722-8be7-4be6-aced-83c1366ff62e"
   },
   "outputs": [
    {
     "data": {
      "text/html": [
       "<div>\n",
       "<style scoped>\n",
       "    .dataframe tbody tr th:only-of-type {\n",
       "        vertical-align: middle;\n",
       "    }\n",
       "\n",
       "    .dataframe tbody tr th {\n",
       "        vertical-align: top;\n",
       "    }\n",
       "\n",
       "    .dataframe thead th {\n",
       "        text-align: right;\n",
       "    }\n",
       "</style>\n",
       "<table border=\"1\" class=\"dataframe\">\n",
       "  <thead>\n",
       "    <tr style=\"text-align: right;\">\n",
       "      <th></th>\n",
       "      <th>age</th>\n",
       "      <th>workclass</th>\n",
       "      <th>fnlwgt</th>\n",
       "      <th>education</th>\n",
       "      <th>education.num</th>\n",
       "      <th>marital.status</th>\n",
       "      <th>occupation</th>\n",
       "      <th>relationship</th>\n",
       "      <th>race</th>\n",
       "      <th>sex</th>\n",
       "      <th>capital.gain</th>\n",
       "      <th>capital.loss</th>\n",
       "      <th>hours.per.week</th>\n",
       "      <th>native.country</th>\n",
       "      <th>income</th>\n",
       "    </tr>\n",
       "  </thead>\n",
       "  <tbody>\n",
       "    <tr>\n",
       "      <th>15282</th>\n",
       "      <td>24</td>\n",
       "      <td>3</td>\n",
       "      <td>11578</td>\n",
       "      <td>15</td>\n",
       "      <td>9</td>\n",
       "      <td>2</td>\n",
       "      <td>11</td>\n",
       "      <td>0</td>\n",
       "      <td>4</td>\n",
       "      <td>1</td>\n",
       "      <td>0</td>\n",
       "      <td>0</td>\n",
       "      <td>50</td>\n",
       "      <td>38</td>\n",
       "      <td>0</td>\n",
       "    </tr>\n",
       "    <tr>\n",
       "      <th>24870</th>\n",
       "      <td>8</td>\n",
       "      <td>1</td>\n",
       "      <td>10164</td>\n",
       "      <td>9</td>\n",
       "      <td>12</td>\n",
       "      <td>4</td>\n",
       "      <td>2</td>\n",
       "      <td>3</td>\n",
       "      <td>4</td>\n",
       "      <td>1</td>\n",
       "      <td>0</td>\n",
       "      <td>0</td>\n",
       "      <td>24</td>\n",
       "      <td>38</td>\n",
       "      <td>0</td>\n",
       "    </tr>\n",
       "    <tr>\n",
       "      <th>18822</th>\n",
       "      <td>8</td>\n",
       "      <td>3</td>\n",
       "      <td>9010</td>\n",
       "      <td>11</td>\n",
       "      <td>8</td>\n",
       "      <td>4</td>\n",
       "      <td>0</td>\n",
       "      <td>4</td>\n",
       "      <td>2</td>\n",
       "      <td>0</td>\n",
       "      <td>0</td>\n",
       "      <td>0</td>\n",
       "      <td>39</td>\n",
       "      <td>38</td>\n",
       "      <td>0</td>\n",
       "    </tr>\n",
       "    <tr>\n",
       "      <th>26404</th>\n",
       "      <td>36</td>\n",
       "      <td>3</td>\n",
       "      <td>4986</td>\n",
       "      <td>11</td>\n",
       "      <td>8</td>\n",
       "      <td>6</td>\n",
       "      <td>6</td>\n",
       "      <td>1</td>\n",
       "      <td>4</td>\n",
       "      <td>0</td>\n",
       "      <td>0</td>\n",
       "      <td>0</td>\n",
       "      <td>39</td>\n",
       "      <td>38</td>\n",
       "      <td>0</td>\n",
       "    </tr>\n",
       "    <tr>\n",
       "      <th>7842</th>\n",
       "      <td>7</td>\n",
       "      <td>3</td>\n",
       "      <td>4943</td>\n",
       "      <td>9</td>\n",
       "      <td>12</td>\n",
       "      <td>4</td>\n",
       "      <td>4</td>\n",
       "      <td>3</td>\n",
       "      <td>4</td>\n",
       "      <td>0</td>\n",
       "      <td>0</td>\n",
       "      <td>0</td>\n",
       "      <td>39</td>\n",
       "      <td>38</td>\n",
       "      <td>0</td>\n",
       "    </tr>\n",
       "  </tbody>\n",
       "</table>\n",
       "</div>"
      ],
      "text/plain": [
       "       age  workclass  fnlwgt  education  education.num  marital.status  \\\n",
       "15282   24          3   11578         15              9               2   \n",
       "24870    8          1   10164          9             12               4   \n",
       "18822    8          3    9010         11              8               4   \n",
       "26404   36          3    4986         11              8               6   \n",
       "7842     7          3    4943          9             12               4   \n",
       "\n",
       "       occupation  relationship  race  sex  capital.gain  capital.loss  \\\n",
       "15282          11             0     4    1             0             0   \n",
       "24870           2             3     4    1             0             0   \n",
       "18822           0             4     2    0             0             0   \n",
       "26404           6             1     4    0             0             0   \n",
       "7842            4             3     4    0             0             0   \n",
       "\n",
       "       hours.per.week  native.country  income  \n",
       "15282              50              38       0  \n",
       "24870              24              38       0  \n",
       "18822              39              38       0  \n",
       "26404              39              38       0  \n",
       "7842               39              38       0  "
      ]
     },
     "execution_count": 42,
     "metadata": {},
     "output_type": "execute_result"
    }
   ],
   "source": [
    "train_data.head()"
   ]
  },
  {
   "cell_type": "code",
   "execution_count": null,
   "id": "e35cb4c6",
   "metadata": {},
   "outputs": [],
   "source": [
    "# min_max_scaler = MinMaxScaler()\n",
    "# std_scaler = StandardScaler()\n",
    "# # fitting\n",
    "# if len(feats_min_max_scale)>0 and len(feats_std_scale):\n",
    "#     min_max_scaler_model = min_max_scaler.fit(train_data[feats_min_max_scale])\n",
    "#     std_scaler_model = std_scaler.fit(train_data[feats_std_scale])\n",
    "# # transforming min_max_scale\n",
    "#     min_max_scaled_train_data = pd.DataFrame(min_max_scaler_model.transform(train_data[feats_min_max_scale]), columns = feats_min_max_scale)\n",
    "#     min_max_scaled_test_data = pd.DataFrame(min_max_scaler_model.transform(val_data[feats_min_max_scale]), columns = feats_min_max_scale)\n",
    "\n",
    "# # tranforming std_scale\n",
    "#     std_scaled_train_data =pd.DataFrame( std_scaler_model.transform(train_data[feats_std_scale]), columns = feats_std_scale)\n",
    "#     std_scaled_test_data =pd.DataFrame( std_scaler_model.transform(val_data[feats_std_scale]), columns = feats_std_scale)\n",
    "#     train_data_v2 = std_scaled_train_data.merge(min_max_scaled_train_data, right_index = True, left_index = True)\n",
    "    \n",
    "#     val_data_v2 = std_scaled_test_data.merge(min_max_scaled_test_data, right_index = True, left_index = True)\n",
    "# elif len(feats_min_max_scale)>0:\n",
    "#     min_max_scaler_model = min_max_scaler.fit(train_data[feats_min_max_scale])\n",
    "#     min_max_scaled_train_data = pd.DataFrame(min_max_scaler_model.transform(train_data[feats_min_max_scale]), columns = feats_min_max_scale)\n",
    "#     min_max_scaled_test_data = pd.DataFrame(min_max_scaler_model.transform(val_data[feats_min_max_scale]), columns = feats_min_max_scale)\n",
    "#     train_data_v2=min_max_scaled_train_data\n",
    "#     val_data_v2=min_max_scaled_test_data\n",
    "# elif len(feats_std_scale)>0:  \n",
    "#     std_scaler_model = std_scaler.fit(train_data[feats_std_scale])\n",
    "#     std_scaled_train_data =pd.DataFrame( std_scaler_model.transform(train_data[feats_std_scale]), columns = feats_std_scale)\n",
    "#     std_scaled_test_data =pd.DataFrame( std_scaler_model.transform(val_data[feats_std_scale]), columns = feats_std_scale)\n",
    "#     train_data_v2=std_scaled_train_data\n",
    "#     val_data_v2=std_scaled_test_data"
   ]
  },
  {
   "cell_type": "code",
   "execution_count": 43,
   "id": "ff26e898",
   "metadata": {
    "id": "ff26e898"
   },
   "outputs": [],
   "source": [
    "val_data=val_data.apply(LabelEncoder().fit_transform)"
   ]
  },
  {
   "cell_type": "code",
   "execution_count": 44,
   "id": "def9ea65",
   "metadata": {
    "id": "def9ea65"
   },
   "outputs": [],
   "source": [
    "X_train= np.array(train_data.drop('income',axis=1))\n",
    "y_train=np.array(train_data['income'])\n",
    "X_val= np.array(val_data.drop('income',axis=1))\n",
    "y_val=np.array(val_data['income'])"
   ]
  },
  {
   "cell_type": "markdown",
   "id": "929bac16",
   "metadata": {},
   "source": [
    "# Decision Tree"
   ]
  },
  {
   "cell_type": "code",
   "execution_count": 45,
   "id": "e17dc832",
   "metadata": {
    "colab": {
     "base_uri": "https://localhost:8080/"
    },
    "id": "e17dc832",
    "outputId": "47f512de-79f6-4e1c-b8f9-528758804e81"
   },
   "outputs": [
    {
     "name": "stdout",
     "output_type": "stream",
     "text": [
      "0.9999616093366094\n",
      "0.7785966528481498\n",
      "[[4411  555]\n",
      " [ 887  660]]\n",
      "\n",
      "\n",
      "\n",
      "              precision    recall  f1-score   support\n",
      "\n",
      "           0       0.83      0.89      0.86      4966\n",
      "           1       0.54      0.43      0.48      1547\n",
      "\n",
      "    accuracy                           0.78      6513\n",
      "   macro avg       0.69      0.66      0.67      6513\n",
      "weighted avg       0.76      0.78      0.77      6513\n",
      "\n"
     ]
    }
   ],
   "source": [
    "from sklearn.model_selection import GridSearchCV\n",
    "from sklearn.metrics import confusion_matrix, classification_report\n",
    "from sklearn.tree import DecisionTreeClassifier\n",
    "model=DecisionTreeClassifier(class_weight='balanced')\n",
    "model.fit(X_train,y_train)\n",
    "print(model.score(X_train,y_train))\n",
    "pred=model.predict(X_val)\n",
    "print(model.score(X_val,y_val))\n",
    "print(confusion_matrix(y_val,pred))\n",
    "print(\"\\n\\n\")\n",
    "print(classification_report(y_val,pred))"
   ]
  },
  {
   "cell_type": "markdown",
   "id": "2d4689c9",
   "metadata": {},
   "source": [
    "# Try different values of max depth in the tree (start with max_depth = 3)"
   ]
  },
  {
   "cell_type": "code",
   "execution_count": 47,
   "id": "8b958422",
   "metadata": {},
   "outputs": [
    {
     "data": {
      "image/png": "[encoded data removed]",
      "text/plain": [
       "<Figure size 432x288 with 1 Axes>"
      ]
     },
     "metadata": {
      "needs_background": "light"
     },
     "output_type": "display_data"
    }
   ],
   "source": [
    "max_depth= [3, 5, 6, 7, 8,9]\n",
    "scores=[]\n",
    "for i in max_depth:\n",
    "    model=DecisionTreeClassifier(class_weight='balanced',max_depth=i)\n",
    "    model.fit(X_train,y_train)\n",
    "    pred=model.predict(X_val)\n",
    "    scores.append(model.score(X_val,y_val))\n",
    "plt.plot(max_depth, scores)\n",
    "plt.xticks(max_depth);\n"
   ]
  },
  {
   "cell_type": "markdown",
   "id": "d6042715",
   "metadata": {},
   "source": [
    "# Try different values of min_samples_split "
   ]
  },
  {
   "cell_type": "code",
   "execution_count": 54,
   "id": "97c038a4",
   "metadata": {},
   "outputs": [
    {
     "data": {
      "image/png": "[encoded data removed]",
      "text/plain": [
       "<Figure size 432x288 with 1 Axes>"
      ]
     },
     "metadata": {
      "needs_background": "light"
     },
     "output_type": "display_data"
    }
   ],
   "source": [
    "min_samples_split= [0.1,0.2,0.3,0.4,0.5,0.6,0.7,0.8,0.9]\n",
    "scores_1=[]\n",
    "for i in min_samples_split:\n",
    "    model=DecisionTreeClassifier(class_weight='balanced',min_samples_split=i)\n",
    "    model.fit(X_train,y_train)\n",
    "    pred=model.predict(X_val)\n",
    "    scores_1.append(model.score(X_val,y_val))\n",
    "plt.plot(min_samples_split, scores_1)\n",
    "plt.xticks(min_samples_split);"
   ]
  },
  {
   "cell_type": "markdown",
   "id": "f973edb6",
   "metadata": {},
   "source": [
    "# Try different values of min_samples_leaf"
   ]
  },
  {
   "cell_type": "code",
   "execution_count": 57,
   "id": "d210d255",
   "metadata": {},
   "outputs": [
    {
     "data": {
      "image/png": "[encoded data removed]",
      "text/plain": [
       "<Figure size 432x288 with 1 Axes>"
      ]
     },
     "metadata": {
      "needs_background": "light"
     },
     "output_type": "display_data"
    }
   ],
   "source": [
    "min_samples_leaf=[3,4,5,6,7,8,9,10]\n",
    "scores_2=[]\n",
    "for i in min_samples_leaf:\n",
    "    model=DecisionTreeClassifier(class_weight='balanced',min_samples_leaf=i)\n",
    "    model.fit(X_train,y_train)\n",
    "    pred=model.predict(X_val)\n",
    "    scores_2.append(model.score(X_val,y_val))\n",
    "plt.plot(min_samples_leaf, scores_2)\n",
    "plt.xticks(min_samples_leaf);"
   ]
  },
  {
   "cell_type": "markdown",
   "id": "79f68e5f",
   "metadata": {},
   "source": [
    "# Try different values of max_features (start with 3 then increase)"
   ]
  },
  {
   "cell_type": "code",
   "execution_count": 60,
   "id": "005a6df9",
   "metadata": {},
   "outputs": [
    {
     "data": {
      "image/png": "[encoded data removed]",
      "text/plain": [
       "<Figure size 432x288 with 1 Axes>"
      ]
     },
     "metadata": {
      "needs_background": "light"
     },
     "output_type": "display_data"
    }
   ],
   "source": [
    "max_features= [3,4,5,6,7,8,9,10,11,12,13,14]\n",
    "scores_3=[]\n",
    "for i in max_features:\n",
    "    model=DecisionTreeClassifier(class_weight='balanced',max_features=i)\n",
    "    model.fit(X_train,y_train)\n",
    "    pred=model.predict(X_val)\n",
    "    scores_3.append(model.score(X_val,y_val))\n",
    "plt.plot(max_features, scores_3)\n",
    "plt.xticks(max_features);"
   ]
  },
  {
   "cell_type": "markdown",
   "id": "80df6b90",
   "metadata": {},
   "source": [
    "# Try different values of max_leaf_nodes "
   ]
  },
  {
   "cell_type": "code",
   "execution_count": 61,
   "id": "474eb1e6",
   "metadata": {},
   "outputs": [
    {
     "data": {
      "image/png": "[encoded data removed]",
      "text/plain": [
       "<Figure size 432x288 with 1 Axes>"
      ]
     },
     "metadata": {
      "needs_background": "light"
     },
     "output_type": "display_data"
    }
   ],
   "source": [
    "max_leaf_nodes= [3,4,5,6,7,8,9,10]\n",
    "scores_4=[]\n",
    "for i in max_leaf_nodes:\n",
    "    model=DecisionTreeClassifier(class_weight='balanced',max_leaf_nodes=i)\n",
    "    model.fit(X_train,y_train)\n",
    "    pred=model.predict(X_val)\n",
    "    scores_4.append(model.score(X_val,y_val))\n",
    "plt.plot(max_leaf_nodes, scores_4)\n",
    "plt.xticks(max_leaf_nodes);"
   ]
  },
  {
   "cell_type": "markdown",
   "id": "f3a07910",
   "metadata": {},
   "source": [
    "# Try different values of ccp_alpha (start with 0.001 then increase)"
   ]
  },
  {
   "cell_type": "code",
   "execution_count": 63,
   "id": "80455091",
   "metadata": {},
   "outputs": [
    {
     "data": {
      "text/plain": [
       "[<matplotlib.lines.Line2D at 0x1a8b281c550>]"
      ]
     },
     "execution_count": 63,
     "metadata": {},
     "output_type": "execute_result"
    },
    {
     "data": {
      "image/png": "[encoded data removed]",
      "text/plain": [
       "<Figure size 432x288 with 1 Axes>"
      ]
     },
     "metadata": {
      "needs_background": "light"
     },
     "output_type": "display_data"
    }
   ],
   "source": [
    "ccp_alpha=[0.001,0.01,0.05,0.1]\n",
    "scores_5=[]\n",
    "for i in ccp_alpha:\n",
    "    model=DecisionTreeClassifier(class_weight='balanced',ccp_alpha=i)\n",
    "    model.fit(X_train,y_train)\n",
    "    pred=model.predict(X_val)\n",
    "    scores_5.append(model.score(X_val,y_val))\n",
    "plt.plot(ccp_alpha, scores_5)\n",
    "# plt.xticks(ccp_alpha);"
   ]
  },
  {
   "cell_type": "code",
   "execution_count": 16,
   "id": "ef095f42",
   "metadata": {
    "id": "ef095f42"
   },
   "outputs": [],
   "source": [
    "# param_grid = {'max_depth': [3, 5, 6, 7, 8,9],\n",
    "            \n",
    "#               'max_features': [3,4,5,6,7,8,9,15],\n",
    "#               'max_leaf_nodes': [3,4,5,6,7,8,9,10],\n",
    "#               'ccp_alpha':[0.001,0.01,0.05,0.1]}\n",
    "# grid = GridSearchCV(DecisionTreeClassifier(), param_grid)\n",
    "# grid.fit(X_train, y_train)\n",
    "# pred=grid.predict(X_val)"
   ]
  },
  {
   "cell_type": "code",
   "execution_count": 17,
   "id": "8aa77b69",
   "metadata": {},
   "outputs": [],
   "source": [
    "# grid.best_params_"
   ]
  },
  {
   "cell_type": "code",
   "execution_count": 18,
   "id": "5bb89241",
   "metadata": {},
   "outputs": [],
   "source": [
    "# grid.best_score_"
   ]
  },
  {
   "cell_type": "code",
   "execution_count": 19,
   "id": "79267f6e",
   "metadata": {},
   "outputs": [
    {
     "name": "stdout",
     "output_type": "stream",
     "text": [
      "0.7546068796068796\n",
      "0.760325502840473\n",
      "[[3615 1351]\n",
      " [ 210 1337]]\n",
      "\n",
      "\n",
      "\n",
      "              precision    recall  f1-score   support\n",
      "\n",
      "           0       0.95      0.73      0.82      4966\n",
      "           1       0.50      0.86      0.63      1547\n",
      "\n",
      "    accuracy                           0.76      6513\n",
      "   macro avg       0.72      0.80      0.73      6513\n",
      "weighted avg       0.84      0.76      0.78      6513\n",
      "\n"
     ]
    }
   ],
   "source": [
    "model=DecisionTreeClassifier(class_weight='balanced',ccp_alpha= 0.001, max_depth= 5, max_features= 9, max_leaf_nodes= 10)\n",
    "model.fit(X_train,y_train)\n",
    "print(model.score(X_train,y_train))\n",
    "pred=model.predict(X_val)\n",
    "print(model.score(X_val,y_val))\n",
    "print(confusion_matrix(y_val,pred))\n",
    "print(\"\\n\\n\")\n",
    "print(classification_report(y_val,pred))"
   ]
  },
  {
   "cell_type": "code",
   "execution_count": 21,
   "id": "517d4802",
   "metadata": {},
   "outputs": [
    {
     "data": {
      "text/plain": [
       "'digraph Tree {\\nnode [shape=box, style=\"filled, rounded\", color=\"black\", fontname=\"helvetica\"] ;\\nedge [fontname=\"helvetica\"] ;\\n0 [label=\"relationship <= 0.5\\\\ngini = 0.5\\\\nsamples = 26048\\\\nvalue = [13024.0, 13024.0]\\\\nclass = n\", fillcolor=\"#ffffff\"] ;\\n1 [label=\"education.num <= 10.5\\\\ngini = 0.403\\\\nsamples = 10603\\\\nvalue = [3841.796, 9882.845]\\\\nclass = n\", fillcolor=\"#86c3ef\"] ;\\n0 -> 1 [labeldistance=2.5, labelangle=45, headlabel=\"True\"] ;\\n2 [label=\"hours.per.week <= 33.5\\\\ngini = 0.48\\\\nsamples = 7086\\\\nvalue = [3156.774, 4755.188]\\\\nclass = n\", fillcolor=\"#bcdef6\"] ;\\n1 -> 2 ;\\n3 [label=\"gini = 0.39\\\\nsamples = 542\\\\nvalue = [320.424, 115.879]\\\\nclass = i\", fillcolor=\"#eeaf81\"] ;\\n2 -> 3 ;\\n4 [label=\"capital.gain <= 76.0\\\\ngini = 0.471\\\\nsamples = 6544\\\\nvalue = [2836.349, 4639.309]\\\\nclass = n\", fillcolor=\"#b2d9f5\"] ;\\n2 -> 4 ;\\n5 [label=\"education.num <= 7.5\\\\ngini = 0.486\\\\nsamples = 6214\\\\nvalue = [2832.394, 3968.864]\\\\nclass = n\", fillcolor=\"#c6e3f8\"] ;\\n4 -> 5 ;\\n6 [label=\"gini = 0.409\\\\nsamples = 1021\\\\nvalue = [596.675, 240.036]\\\\nclass = i\", fillcolor=\"#efb489\"] ;\\n5 -> 6 ;\\n7 [label=\"gini = 0.469\\\\nsamples = 5193\\\\nvalue = [2235.719, 3728.829]\\\\nclass = n\", fillcolor=\"#b0d8f5\"] ;\\n5 -> 7 ;\\n8 [label=\"gini = 0.012\\\\nsamples = 330\\\\nvalue = [3.956, 670.444]\\\\nclass = n\", fillcolor=\"#3a9ee5\"] ;\\n4 -> 8 ;\\n9 [label=\"gini = 0.208\\\\nsamples = 3517\\\\nvalue = [685.023, 5127.657]\\\\nclass = n\", fillcolor=\"#53aae8\"] ;\\n1 -> 9 ;\\n10 [label=\"capital.gain <= 69.5\\\\ngini = 0.38\\\\nsamples = 15445\\\\nvalue = [9182.204, 3141.155]\\\\nclass = i\", fillcolor=\"#eeac7d\"] ;\\n0 -> 10 [labeldistance=2.5, labelangle=-45, headlabel=\"False\"] ;\\n11 [label=\"relationship <= 4.5\\\\ngini = 0.329\\\\nsamples = 14999\\\\nvalue = [9128.799, 2385.871]\\\\nclass = i\", fillcolor=\"#eca26d\"] ;\\n10 -> 11 ;\\n12 [label=\"education.num <= 11.5\\\\ngini = 0.235\\\\nsamples = 13863\\\\nvalue = [8704.204, 1367.789]\\\\nclass = i\", fillcolor=\"#e99558\"] ;\\n11 -> 12 ;\\n13 [label=\"gini = 0.135\\\\nsamples = 11145\\\\nvalue = [7168.013, 564.911]\\\\nclass = i\", fillcolor=\"#e78b49\"] ;\\n12 -> 13 ;\\n14 [label=\"hours.per.week <= 42.5\\\\ngini = 0.451\\\\nsamples = 2718\\\\nvalue = [1536.191, 802.878]\\\\nclass = i\", fillcolor=\"#f3c3a0\"] ;\\n12 -> 14 ;\\n15 [label=\"gini = 0.344\\\\nsamples = 1850\\\\nvalue = [1118.848, 316.599]\\\\nclass = i\", fillcolor=\"#eca571\"] ;\\n14 -> 15 ;\\n16 [label=\"gini = 0.497\\\\nsamples = 868\\\\nvalue = [417.343, 486.279]\\\\nclass = n\", fillcolor=\"#e3f1fb\"] ;\\n14 -> 16 ;\\n17 [label=\"gini = 0.415\\\\nsamples = 1136\\\\nvalue = [424.595, 1018.082]\\\\nclass = n\", fillcolor=\"#8cc6f0\"] ;\\n11 -> 17 ;\\n18 [label=\"gini = 0.123\\\\nsamples = 446\\\\nvalue = [53.404, 755.284]\\\\nclass = n\", fillcolor=\"#47a4e7\"] ;\\n10 -> 18 ;\\n}'"
      ]
     },
     "execution_count": 21,
     "metadata": {},
     "output_type": "execute_result"
    }
   ],
   "source": [
    "from sklearn.tree import export_graphviz\n",
    "export_graphviz(\n",
    "model,feature_names=list(train_data.columns)[0:14],\n",
    "class_names=list(train_data.columns)[14],\n",
    "rounded=True,\n",
    "filled=True\n",
    ")\n"
   ]
  },
  {
   "cell_type": "markdown",
   "id": "cd44b165",
   "metadata": {},
   "source": [
    "# Random Forest"
   ]
  },
  {
   "cell_type": "code",
   "execution_count": 23,
   "id": "f41b98ac",
   "metadata": {},
   "outputs": [
    {
     "name": "stdout",
     "output_type": "stream",
     "text": [
      "0.999884828009828\n",
      "0.82081989866421\n",
      "[[4734  232]\n",
      " [ 935  612]]\n",
      "\n",
      "\n",
      "\n",
      "              precision    recall  f1-score   support\n",
      "\n",
      "           0       0.84      0.95      0.89      4966\n",
      "           1       0.73      0.40      0.51      1547\n",
      "\n",
      "    accuracy                           0.82      6513\n",
      "   macro avg       0.78      0.67      0.70      6513\n",
      "weighted avg       0.81      0.82      0.80      6513\n",
      "\n"
     ]
    }
   ],
   "source": [
    "from sklearn.ensemble import RandomForestClassifier\n",
    "from sklearn.datasets import make_classification\n",
    "model=RandomForestClassifier(n_estimators=100, random_state=2022,bootstrap=True,class_weight='balanced')\n",
    "model.fit(X_train,y_train)\n",
    "print(model.score(X_train,y_train))\n",
    "pred=model.predict(X_val)\n",
    "print(model.score(X_val,y_val))\n",
    "print(confusion_matrix(y_val,pred))\n",
    "print(\"\\n\\n\")\n",
    "print(classification_report(y_val,pred))"
   ]
  },
  {
   "cell_type": "markdown",
   "id": "17109e0f",
   "metadata": {},
   "source": [
    "# n_estimators"
   ]
  },
  {
   "cell_type": "code",
   "execution_count": 64,
   "id": "0110191e",
   "metadata": {},
   "outputs": [
    {
     "data": {
      "image/png": "[encoded data removed]",
      "text/plain": [
       "<Figure size 432x288 with 1 Axes>"
      ]
     },
     "metadata": {
      "needs_background": "light"
     },
     "output_type": "display_data"
    }
   ],
   "source": [
    "n_estimators=[50, 60, 70, 80, 90,100,150]\n",
    "scores_6=[]\n",
    "for i in n_estimators:\n",
    "    model=RandomForestClassifier(class_weight='balanced',n_estimators=i)\n",
    "    model.fit(X_train,y_train)\n",
    "    pred=model.predict(X_val)\n",
    "    scores_6.append(model.score(X_val,y_val))\n",
    "plt.plot(n_estimators, scores_6)\n",
    "plt.xticks(n_estimators);"
   ]
  },
  {
   "cell_type": "markdown",
   "id": "7f11619e",
   "metadata": {},
   "source": [
    "# max_samples "
   ]
  },
  {
   "cell_type": "code",
   "execution_count": 65,
   "id": "abbb526f",
   "metadata": {},
   "outputs": [
    {
     "data": {
      "image/png": "[encoded data removed]",
      "text/plain": [
       "<Figure size 432x288 with 1 Axes>"
      ]
     },
     "metadata": {
      "needs_background": "light"
     },
     "output_type": "display_data"
    }
   ],
   "source": [
    "max_samples= [0.1,0.2,0.3,0.4,0.5,0.6,0.7,0.8,0.9]\n",
    "scores_7=[]\n",
    "for i in max_samples:\n",
    "    model=RandomForestClassifier(class_weight='balanced',max_samples=i)\n",
    "    model.fit(X_train,y_train)\n",
    "    pred=model.predict(X_val)\n",
    "    scores_7.append(model.score(X_val,y_val))\n",
    "plt.plot(max_samples, scores_7)\n",
    "plt.xticks(max_samples);"
   ]
  },
  {
   "cell_type": "code",
   "execution_count": 29,
   "id": "98b55d53",
   "metadata": {},
   "outputs": [],
   "source": [
    "param_grid = {'n_estimators': [50, 60, 70, 80, 90,100,150]}\n",
    "grid = GridSearchCV(RandomForestClassifier(), param_grid)\n",
    "grid.fit(X_train, y_train)\n",
    "pred=grid.predict(X_val)"
   ]
  },
  {
   "cell_type": "code",
   "execution_count": 30,
   "id": "2e1e6143",
   "metadata": {},
   "outputs": [
    {
     "data": {
      "text/plain": [
       "{'n_estimators': 100}"
      ]
     },
     "execution_count": 30,
     "metadata": {},
     "output_type": "execute_result"
    }
   ],
   "source": [
    "grid.best_params_"
   ]
  },
  {
   "cell_type": "markdown",
   "id": "48497b3b",
   "metadata": {},
   "source": [
    "# KNN"
   ]
  },
  {
   "cell_type": "code",
   "execution_count": 66,
   "id": "f022aa9c",
   "metadata": {},
   "outputs": [],
   "source": [
    "from imblearn.over_sampling import SMOTE\n",
    "oversampling=SMOTE()\n",
    "X_train,y_train=oversampling.fit_resample(X_train,y_train)"
   ]
  },
  {
   "cell_type": "code",
   "execution_count": 67,
   "id": "673d6dad",
   "metadata": {},
   "outputs": [
    {
     "name": "stdout",
     "output_type": "stream",
     "text": [
      "0.8594714994431507\n",
      "0.676186089359742\n",
      "[[3462 1504]\n",
      " [ 605  942]]\n",
      "\n",
      "\n",
      "\n",
      "              precision    recall  f1-score   support\n",
      "\n",
      "           0       0.85      0.70      0.77      4966\n",
      "           1       0.39      0.61      0.47      1547\n",
      "\n",
      "    accuracy                           0.68      6513\n",
      "   macro avg       0.62      0.65      0.62      6513\n",
      "weighted avg       0.74      0.68      0.70      6513\n",
      "\n"
     ]
    }
   ],
   "source": [
    "from sklearn.neighbors import KNeighborsClassifier\n",
    "model = KNeighborsClassifier()\n",
    "model.fit(X_train,y_train)\n",
    "print(model.score(X_train,y_train))\n",
    "pred=model.predict(X_val)\n",
    "print(model.score(X_val,y_val))\n",
    "print(confusion_matrix(y_val,pred))\n",
    "print(\"\\n\\n\")\n",
    "print(classification_report(y_val,pred))"
   ]
  },
  {
   "cell_type": "markdown",
   "id": "d7ebae3f",
   "metadata": {},
   "source": [
    "# Try different p values in the Minkowski distance metric "
   ]
  },
  {
   "cell_type": "code",
   "execution_count": 70,
   "id": "1d1ec0f2",
   "metadata": {},
   "outputs": [
    {
     "data": {
      "image/png": "[encoded data removed]",
      "text/plain": [
       "<Figure size 432x288 with 1 Axes>"
      ]
     },
     "metadata": {
      "needs_background": "light"
     },
     "output_type": "display_data"
    }
   ],
   "source": [
    "p_value=[2,3,4,5]\n",
    "scores_8=[]\n",
    "for i in p_value:\n",
    "    model = KNeighborsClassifier(p=i)\n",
    "    model.fit(X_train,y_train)\n",
    "    pred=model.predict(X_val)\n",
    "    scores_8.append(model.score(X_val,y_val))\n",
    "plt.plot(p_value,scores_8)\n",
    "plt.xticks(p_value);"
   ]
  },
  {
   "cell_type": "markdown",
   "id": "8312eb9f",
   "metadata": {},
   "source": [
    "# Try different N_neighbors"
   ]
  },
  {
   "cell_type": "code",
   "execution_count": 72,
   "id": "af733d0c",
   "metadata": {},
   "outputs": [
    {
     "data": {
      "image/png": "[encoded data removed]",
      "text/plain": [
       "<Figure size 432x288 with 1 Axes>"
      ]
     },
     "metadata": {
      "needs_background": "light"
     },
     "output_type": "display_data"
    }
   ],
   "source": [
    "N=[2,3,4,5,6,7,8]\n",
    "scores_9=[]\n",
    "for i in N:\n",
    "    model = KNeighborsClassifier(n_neighbors=i)\n",
    "    model.fit(X_train,y_train)\n",
    "    pred=model.predict(X_val)\n",
    "    scores_9.append(model.score(X_val,y_val))\n",
    "plt.plot(N,scores_9)\n",
    "plt.xticks(N);"
   ]
  },
  {
   "cell_type": "markdown",
   "id": "d68cc2fb",
   "metadata": {},
   "source": [
    "# Try ‘uniform’ and ‘distance’ options in the weights hyper-parameter"
   ]
  },
  {
   "cell_type": "code",
   "execution_count": 76,
   "id": "f2f545ce",
   "metadata": {},
   "outputs": [
    {
     "data": {
      "image/png": "[encoded data removed]",
      "text/plain": [
       "<Figure size 432x288 with 1 Axes>"
      ]
     },
     "metadata": {
      "needs_background": "light"
     },
     "output_type": "display_data"
    }
   ],
   "source": [
    "weights=['uniform', 'distance']\n",
    "scores_10=[]\n",
    "for i in weights:\n",
    "    model = KNeighborsClassifier(weights=i)\n",
    "    model.fit(X_train,y_train)\n",
    "    pred=model.predict(X_val)\n",
    "    scores_10.append(model.score(X_val,y_val))\n",
    "plt.plot(weights,scores_10)\n",
    "plt.xticks(weights);"
   ]
  },
  {
   "cell_type": "code",
   "execution_count": 77,
   "id": "4ebfb1f6",
   "metadata": {},
   "outputs": [],
   "source": [
    "param_grid = {'p':[2,3,4,5],\n",
    "             'n_neighbors':[2,3,4,5,6,7,8],\n",
    "             'weights':['uniform', 'distance']}\n",
    "grid = GridSearchCV(KNeighborsClassifier(), param_grid)\n",
    "grid.fit(X_train, y_train)\n",
    "pred=grid.predict(X_val)"
   ]
  },
  {
   "cell_type": "code",
   "execution_count": 78,
   "id": "c1073279",
   "metadata": {},
   "outputs": [
    {
     "data": {
      "text/plain": [
       "{'n_neighbors': 2, 'p': 2, 'weights': 'distance'}"
      ]
     },
     "execution_count": 78,
     "metadata": {},
     "output_type": "execute_result"
    }
   ],
   "source": [
    "grid.best_params_"
   ]
  },
  {
   "cell_type": "code",
   "execution_count": 79,
   "id": "fdf70b1e",
   "metadata": {},
   "outputs": [
    {
     "data": {
      "text/plain": [
       "0.8458289979344811"
      ]
     },
     "execution_count": 79,
     "metadata": {},
     "output_type": "execute_result"
    }
   ],
   "source": [
    "grid.best_score_"
   ]
  },
  {
   "cell_type": "code",
   "execution_count": 80,
   "id": "16d05b6d",
   "metadata": {},
   "outputs": [
    {
     "name": "stdout",
     "output_type": "stream",
     "text": [
      "0.999974688670649\n",
      "0.6927683095347766\n",
      "[[3807 1159]\n",
      " [ 842  705]]\n",
      "\n",
      "\n",
      "\n",
      "              precision    recall  f1-score   support\n",
      "\n",
      "           0       0.82      0.77      0.79      4966\n",
      "           1       0.38      0.46      0.41      1547\n",
      "\n",
      "    accuracy                           0.69      6513\n",
      "   macro avg       0.60      0.61      0.60      6513\n",
      "weighted avg       0.71      0.69      0.70      6513\n",
      "\n"
     ]
    }
   ],
   "source": [
    "model = KNeighborsClassifier(n_neighbors= 2, p= 2, weights= 'distance')\n",
    "model.fit(X_train,y_train)\n",
    "print(model.score(X_train,y_train))\n",
    "pred=model.predict(X_val)\n",
    "print(model.score(X_val,y_val))\n",
    "print(confusion_matrix(y_val,pred))\n",
    "print(\"\\n\\n\")\n",
    "print(classification_report(y_val,pred))"
   ]
  },
  {
   "cell_type": "markdown",
   "id": "dfa9f2cf",
   "metadata": {},
   "source": [
    "---------------\n",
    "\n",
    "$$ Submitted \\space by: \\space Ahmed \\space Azzam $$"
   ]
  }
 ],
 "metadata": {
  "colab": {
   "collapsed_sections": [],
   "name": "Adult-Income-Prediction.ipynb",
   "provenance": []
  },
  "kernelspec": {
   "display_name": "Python 3 (ipykernel)",
   "language": "python",
   "name": "python3"
  },
  "language_info": {
   "codemirror_mode": {
    "name": "ipython",
    "version": 3
   },
   "file_extension": ".py",
   "mimetype": "text/x-python",
   "name": "python",
   "nbconvert_exporter": "python",
   "pygments_lexer": "ipython3",
   "version": "3.8.8"
  }
 },
 "nbformat": 4,
 "nbformat_minor": 5
}
