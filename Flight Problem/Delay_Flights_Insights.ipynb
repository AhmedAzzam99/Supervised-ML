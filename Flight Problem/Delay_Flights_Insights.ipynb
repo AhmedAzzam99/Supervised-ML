{
 "cells": [
  {
   "cell_type": "markdown",
   "id": "f5717dcb",
   "metadata": {},
   "source": [
    "$$ Ahmed \\space Azzam $$\n",
    "\n",
    "$$ Delay \\space Task  \\ $$"
   ]
  },
  {
   "cell_type": "code",
   "execution_count": 1,
   "id": "a64be40a",
   "metadata": {},
   "outputs": [],
   "source": [
    "import numpy as np\n",
    "import pandas as pd\n",
    "import matplotlib.pyplot as plt\n",
    "import seaborn as sns"
   ]
  },
  {
   "cell_type": "code",
   "execution_count": 2,
   "id": "a1d62764",
   "metadata": {},
   "outputs": [],
   "source": [
    "df= pd.read_csv('flights.csv')"
   ]
  },
  {
   "cell_type": "code",
   "execution_count": 3,
   "id": "599856ee",
   "metadata": {},
   "outputs": [
    {
     "data": {
      "text/html": [
       "<div>\n",
       "<style scoped>\n",
       "    .dataframe tbody tr th:only-of-type {\n",
       "        vertical-align: middle;\n",
       "    }\n",
       "\n",
       "    .dataframe tbody tr th {\n",
       "        vertical-align: top;\n",
       "    }\n",
       "\n",
       "    .dataframe thead th {\n",
       "        text-align: right;\n",
       "    }\n",
       "</style>\n",
       "<table border=\"1\" class=\"dataframe\">\n",
       "  <thead>\n",
       "    <tr style=\"text-align: right;\">\n",
       "      <th></th>\n",
       "      <th>MONTH</th>\n",
       "      <th>DAY</th>\n",
       "      <th>AIRLINE</th>\n",
       "      <th>FLIGHT_NUMBER</th>\n",
       "      <th>TAIL_NUMBER</th>\n",
       "      <th>ORIGIN_AIRPORT</th>\n",
       "      <th>DESTINATION_AIRPORT</th>\n",
       "      <th>SCHEDULED_TIME</th>\n",
       "      <th>Flight_Status</th>\n",
       "      <th>CANCELLATION_REASON</th>\n",
       "      <th>AIR_SYSTEM_DELAY</th>\n",
       "      <th>SECURITY_DELAY</th>\n",
       "      <th>AIRLINE_DELAY</th>\n",
       "      <th>LATE_AIRCRAFT_DELAY</th>\n",
       "      <th>WEATHER_DELAY</th>\n",
       "      <th>DISTANCE</th>\n",
       "    </tr>\n",
       "  </thead>\n",
       "  <tbody>\n",
       "    <tr>\n",
       "      <th>0</th>\n",
       "      <td>1</td>\n",
       "      <td>1</td>\n",
       "      <td>MQ</td>\n",
       "      <td>3303</td>\n",
       "      <td>N678MQ</td>\n",
       "      <td>DFW</td>\n",
       "      <td>GJT</td>\n",
       "      <td>133.0</td>\n",
       "      <td>0</td>\n",
       "      <td>NaN</td>\n",
       "      <td>0.0</td>\n",
       "      <td>0.0</td>\n",
       "      <td>22.0</td>\n",
       "      <td>22.0</td>\n",
       "      <td>0.0</td>\n",
       "      <td>773</td>\n",
       "    </tr>\n",
       "    <tr>\n",
       "      <th>1</th>\n",
       "      <td>1</td>\n",
       "      <td>1</td>\n",
       "      <td>NK</td>\n",
       "      <td>295</td>\n",
       "      <td>N521NK</td>\n",
       "      <td>ORD</td>\n",
       "      <td>IAH</td>\n",
       "      <td>167.0</td>\n",
       "      <td>0</td>\n",
       "      <td>NaN</td>\n",
       "      <td>26.0</td>\n",
       "      <td>0.0</td>\n",
       "      <td>0.0</td>\n",
       "      <td>0.0</td>\n",
       "      <td>0.0</td>\n",
       "      <td>925</td>\n",
       "    </tr>\n",
       "    <tr>\n",
       "      <th>2</th>\n",
       "      <td>1</td>\n",
       "      <td>1</td>\n",
       "      <td>OO</td>\n",
       "      <td>2610</td>\n",
       "      <td>N866AS</td>\n",
       "      <td>LAX</td>\n",
       "      <td>FAT</td>\n",
       "      <td>55.0</td>\n",
       "      <td>0</td>\n",
       "      <td>NaN</td>\n",
       "      <td>NaN</td>\n",
       "      <td>NaN</td>\n",
       "      <td>NaN</td>\n",
       "      <td>NaN</td>\n",
       "      <td>NaN</td>\n",
       "      <td>209</td>\n",
       "    </tr>\n",
       "    <tr>\n",
       "      <th>3</th>\n",
       "      <td>1</td>\n",
       "      <td>1</td>\n",
       "      <td>OO</td>\n",
       "      <td>5343</td>\n",
       "      <td>N584SW</td>\n",
       "      <td>LAX</td>\n",
       "      <td>SBP</td>\n",
       "      <td>59.0</td>\n",
       "      <td>0</td>\n",
       "      <td>NaN</td>\n",
       "      <td>NaN</td>\n",
       "      <td>NaN</td>\n",
       "      <td>NaN</td>\n",
       "      <td>NaN</td>\n",
       "      <td>NaN</td>\n",
       "      <td>156</td>\n",
       "    </tr>\n",
       "    <tr>\n",
       "      <th>4</th>\n",
       "      <td>1</td>\n",
       "      <td>1</td>\n",
       "      <td>OO</td>\n",
       "      <td>4443</td>\n",
       "      <td>N455SW</td>\n",
       "      <td>CVG</td>\n",
       "      <td>MKE</td>\n",
       "      <td>83.0</td>\n",
       "      <td>0</td>\n",
       "      <td>NaN</td>\n",
       "      <td>NaN</td>\n",
       "      <td>NaN</td>\n",
       "      <td>NaN</td>\n",
       "      <td>NaN</td>\n",
       "      <td>NaN</td>\n",
       "      <td>318</td>\n",
       "    </tr>\n",
       "  </tbody>\n",
       "</table>\n",
       "</div>"
      ],
      "text/plain": [
       "   MONTH  DAY AIRLINE  FLIGHT_NUMBER TAIL_NUMBER ORIGIN_AIRPORT  \\\n",
       "0      1    1      MQ           3303      N678MQ            DFW   \n",
       "1      1    1      NK            295      N521NK            ORD   \n",
       "2      1    1      OO           2610      N866AS            LAX   \n",
       "3      1    1      OO           5343      N584SW            LAX   \n",
       "4      1    1      OO           4443      N455SW            CVG   \n",
       "\n",
       "  DESTINATION_AIRPORT  SCHEDULED_TIME  Flight_Status CANCELLATION_REASON  \\\n",
       "0                 GJT           133.0              0                 NaN   \n",
       "1                 IAH           167.0              0                 NaN   \n",
       "2                 FAT            55.0              0                 NaN   \n",
       "3                 SBP            59.0              0                 NaN   \n",
       "4                 MKE            83.0              0                 NaN   \n",
       "\n",
       "   AIR_SYSTEM_DELAY  SECURITY_DELAY  AIRLINE_DELAY  LATE_AIRCRAFT_DELAY  \\\n",
       "0               0.0             0.0           22.0                 22.0   \n",
       "1              26.0             0.0            0.0                  0.0   \n",
       "2               NaN             NaN            NaN                  NaN   \n",
       "3               NaN             NaN            NaN                  NaN   \n",
       "4               NaN             NaN            NaN                  NaN   \n",
       "\n",
       "   WEATHER_DELAY  DISTANCE  \n",
       "0            0.0       773  \n",
       "1            0.0       925  \n",
       "2            NaN       209  \n",
       "3            NaN       156  \n",
       "4            NaN       318  "
      ]
     },
     "execution_count": 3,
     "metadata": {},
     "output_type": "execute_result"
    }
   ],
   "source": [
    "df.head()"
   ]
  },
  {
   "cell_type": "code",
   "execution_count": 4,
   "id": "5c21f1f3",
   "metadata": {},
   "outputs": [
    {
     "name": "stdout",
     "output_type": "stream",
     "text": [
      "<class 'pandas.core.frame.DataFrame'>\n",
      "RangeIndex: 581746 entries, 0 to 581745\n",
      "Data columns (total 16 columns):\n",
      " #   Column               Non-Null Count   Dtype  \n",
      "---  ------               --------------   -----  \n",
      " 0   MONTH                581746 non-null  int64  \n",
      " 1   DAY                  581746 non-null  int64  \n",
      " 2   AIRLINE              581746 non-null  object \n",
      " 3   FLIGHT_NUMBER        581746 non-null  int64  \n",
      " 4   TAIL_NUMBER          580318 non-null  object \n",
      " 5   ORIGIN_AIRPORT       581746 non-null  object \n",
      " 6   DESTINATION_AIRPORT  581746 non-null  object \n",
      " 7   SCHEDULED_TIME       581742 non-null  float64\n",
      " 8   Flight_Status        581746 non-null  int64  \n",
      " 9   CANCELLATION_REASON  10988 non-null   object \n",
      " 10  AIR_SYSTEM_DELAY     136064 non-null  float64\n",
      " 11  SECURITY_DELAY       136064 non-null  float64\n",
      " 12  AIRLINE_DELAY        136064 non-null  float64\n",
      " 13  LATE_AIRCRAFT_DELAY  136064 non-null  float64\n",
      " 14  WEATHER_DELAY        136064 non-null  float64\n",
      " 15  DISTANCE             581746 non-null  int64  \n",
      "dtypes: float64(6), int64(5), object(5)\n",
      "memory usage: 71.0+ MB\n"
     ]
    }
   ],
   "source": [
    "df.info()"
   ]
  },
  {
   "cell_type": "markdown",
   "id": "5f6224bd",
   "metadata": {},
   "source": [
    "## Note"
   ]
  },
  {
   "cell_type": "markdown",
   "id": "954f5e4e",
   "metadata": {},
   "source": [
    "- Assuming that the question is required the ratio of delay of each flight, this is result."
   ]
  },
  {
   "cell_type": "code",
   "execution_count": 5,
   "id": "338d2663",
   "metadata": {},
   "outputs": [],
   "source": [
    "df['Total_Delay']=df.iloc[:,[10,11,12,13,14]].sum(axis=1)"
   ]
  },
  {
   "cell_type": "code",
   "execution_count": 6,
   "id": "39dd4046",
   "metadata": {},
   "outputs": [],
   "source": [
    "df['Delay_to_flight_time_ratio']= df['Total_Delay']/df['SCHEDULED_TIME']"
   ]
  },
  {
   "cell_type": "code",
   "execution_count": 7,
   "id": "96263e33",
   "metadata": {},
   "outputs": [
    {
     "data": {
      "text/html": [
       "<div>\n",
       "<style scoped>\n",
       "    .dataframe tbody tr th:only-of-type {\n",
       "        vertical-align: middle;\n",
       "    }\n",
       "\n",
       "    .dataframe tbody tr th {\n",
       "        vertical-align: top;\n",
       "    }\n",
       "\n",
       "    .dataframe thead th {\n",
       "        text-align: right;\n",
       "    }\n",
       "</style>\n",
       "<table border=\"1\" class=\"dataframe\">\n",
       "  <thead>\n",
       "    <tr style=\"text-align: right;\">\n",
       "      <th></th>\n",
       "      <th>MONTH</th>\n",
       "      <th>DAY</th>\n",
       "      <th>AIRLINE</th>\n",
       "      <th>FLIGHT_NUMBER</th>\n",
       "      <th>TAIL_NUMBER</th>\n",
       "      <th>ORIGIN_AIRPORT</th>\n",
       "      <th>DESTINATION_AIRPORT</th>\n",
       "      <th>SCHEDULED_TIME</th>\n",
       "      <th>Flight_Status</th>\n",
       "      <th>CANCELLATION_REASON</th>\n",
       "      <th>AIR_SYSTEM_DELAY</th>\n",
       "      <th>SECURITY_DELAY</th>\n",
       "      <th>AIRLINE_DELAY</th>\n",
       "      <th>LATE_AIRCRAFT_DELAY</th>\n",
       "      <th>WEATHER_DELAY</th>\n",
       "      <th>DISTANCE</th>\n",
       "      <th>Total_Delay</th>\n",
       "      <th>Delay_to_flight_time_ratio</th>\n",
       "    </tr>\n",
       "  </thead>\n",
       "  <tbody>\n",
       "    <tr>\n",
       "      <th>0</th>\n",
       "      <td>1</td>\n",
       "      <td>1</td>\n",
       "      <td>MQ</td>\n",
       "      <td>3303</td>\n",
       "      <td>N678MQ</td>\n",
       "      <td>DFW</td>\n",
       "      <td>GJT</td>\n",
       "      <td>133.0</td>\n",
       "      <td>0</td>\n",
       "      <td>NaN</td>\n",
       "      <td>0.0</td>\n",
       "      <td>0.0</td>\n",
       "      <td>22.0</td>\n",
       "      <td>22.0</td>\n",
       "      <td>0.0</td>\n",
       "      <td>773</td>\n",
       "      <td>44.0</td>\n",
       "      <td>0.330827</td>\n",
       "    </tr>\n",
       "    <tr>\n",
       "      <th>1</th>\n",
       "      <td>1</td>\n",
       "      <td>1</td>\n",
       "      <td>NK</td>\n",
       "      <td>295</td>\n",
       "      <td>N521NK</td>\n",
       "      <td>ORD</td>\n",
       "      <td>IAH</td>\n",
       "      <td>167.0</td>\n",
       "      <td>0</td>\n",
       "      <td>NaN</td>\n",
       "      <td>26.0</td>\n",
       "      <td>0.0</td>\n",
       "      <td>0.0</td>\n",
       "      <td>0.0</td>\n",
       "      <td>0.0</td>\n",
       "      <td>925</td>\n",
       "      <td>26.0</td>\n",
       "      <td>0.155689</td>\n",
       "    </tr>\n",
       "    <tr>\n",
       "      <th>2</th>\n",
       "      <td>1</td>\n",
       "      <td>1</td>\n",
       "      <td>OO</td>\n",
       "      <td>2610</td>\n",
       "      <td>N866AS</td>\n",
       "      <td>LAX</td>\n",
       "      <td>FAT</td>\n",
       "      <td>55.0</td>\n",
       "      <td>0</td>\n",
       "      <td>NaN</td>\n",
       "      <td>NaN</td>\n",
       "      <td>NaN</td>\n",
       "      <td>NaN</td>\n",
       "      <td>NaN</td>\n",
       "      <td>NaN</td>\n",
       "      <td>209</td>\n",
       "      <td>0.0</td>\n",
       "      <td>0.000000</td>\n",
       "    </tr>\n",
       "    <tr>\n",
       "      <th>3</th>\n",
       "      <td>1</td>\n",
       "      <td>1</td>\n",
       "      <td>OO</td>\n",
       "      <td>5343</td>\n",
       "      <td>N584SW</td>\n",
       "      <td>LAX</td>\n",
       "      <td>SBP</td>\n",
       "      <td>59.0</td>\n",
       "      <td>0</td>\n",
       "      <td>NaN</td>\n",
       "      <td>NaN</td>\n",
       "      <td>NaN</td>\n",
       "      <td>NaN</td>\n",
       "      <td>NaN</td>\n",
       "      <td>NaN</td>\n",
       "      <td>156</td>\n",
       "      <td>0.0</td>\n",
       "      <td>0.000000</td>\n",
       "    </tr>\n",
       "    <tr>\n",
       "      <th>4</th>\n",
       "      <td>1</td>\n",
       "      <td>1</td>\n",
       "      <td>OO</td>\n",
       "      <td>4443</td>\n",
       "      <td>N455SW</td>\n",
       "      <td>CVG</td>\n",
       "      <td>MKE</td>\n",
       "      <td>83.0</td>\n",
       "      <td>0</td>\n",
       "      <td>NaN</td>\n",
       "      <td>NaN</td>\n",
       "      <td>NaN</td>\n",
       "      <td>NaN</td>\n",
       "      <td>NaN</td>\n",
       "      <td>NaN</td>\n",
       "      <td>318</td>\n",
       "      <td>0.0</td>\n",
       "      <td>0.000000</td>\n",
       "    </tr>\n",
       "  </tbody>\n",
       "</table>\n",
       "</div>"
      ],
      "text/plain": [
       "   MONTH  DAY AIRLINE  FLIGHT_NUMBER TAIL_NUMBER ORIGIN_AIRPORT  \\\n",
       "0      1    1      MQ           3303      N678MQ            DFW   \n",
       "1      1    1      NK            295      N521NK            ORD   \n",
       "2      1    1      OO           2610      N866AS            LAX   \n",
       "3      1    1      OO           5343      N584SW            LAX   \n",
       "4      1    1      OO           4443      N455SW            CVG   \n",
       "\n",
       "  DESTINATION_AIRPORT  SCHEDULED_TIME  Flight_Status CANCELLATION_REASON  \\\n",
       "0                 GJT           133.0              0                 NaN   \n",
       "1                 IAH           167.0              0                 NaN   \n",
       "2                 FAT            55.0              0                 NaN   \n",
       "3                 SBP            59.0              0                 NaN   \n",
       "4                 MKE            83.0              0                 NaN   \n",
       "\n",
       "   AIR_SYSTEM_DELAY  SECURITY_DELAY  AIRLINE_DELAY  LATE_AIRCRAFT_DELAY  \\\n",
       "0               0.0             0.0           22.0                 22.0   \n",
       "1              26.0             0.0            0.0                  0.0   \n",
       "2               NaN             NaN            NaN                  NaN   \n",
       "3               NaN             NaN            NaN                  NaN   \n",
       "4               NaN             NaN            NaN                  NaN   \n",
       "\n",
       "   WEATHER_DELAY  DISTANCE  Total_Delay  Delay_to_flight_time_ratio  \n",
       "0            0.0       773         44.0                    0.330827  \n",
       "1            0.0       925         26.0                    0.155689  \n",
       "2            NaN       209          0.0                    0.000000  \n",
       "3            NaN       156          0.0                    0.000000  \n",
       "4            NaN       318          0.0                    0.000000  "
      ]
     },
     "execution_count": 7,
     "metadata": {},
     "output_type": "execute_result"
    }
   ],
   "source": [
    "df.head()"
   ]
  },
  {
   "cell_type": "markdown",
   "id": "57603e86",
   "metadata": {},
   "source": [
    "## Note"
   ]
  },
  {
   "cell_type": "markdown",
   "id": "58f53191",
   "metadata": {},
   "source": [
    "- Assuming the question is related to extracting insights from the five features (AIR_SYSTEM_DELAY,SECURITY_DELAY, AIRLINE_DELAY, LATE_AIRCRAFT_DELAY and WEATHER_DELAY ) and visualize the effect of the delay, you can find this insights in the charts"
   ]
  },
  {
   "cell_type": "code",
   "execution_count": 9,
   "id": "03a54a6b",
   "metadata": {},
   "outputs": [],
   "source": [
    "col_names=['AIR_SYSTEM_DELAY','SECURITY_DELAY','AIRLINE_DELAY','LATE_AIRCRAFT_DELAY','WEATHER_DELAY']\n",
    "lst=[]\n",
    "for col in col_names:\n",
    "    lst.append((df[col]>0).sum())"
   ]
  },
  {
   "cell_type": "code",
   "execution_count": 10,
   "id": "2809fca0",
   "metadata": {},
   "outputs": [],
   "source": [
    "lst_2=[]\n",
    "for col in col_names:\n",
    "    lst_2.append(df[col].sum())"
   ]
  },
  {
   "cell_type": "code",
   "execution_count": 11,
   "id": "7d5f7aff",
   "metadata": {},
   "outputs": [],
   "source": [
    "lst_3=list(np.array(lst_2)/60)"
   ]
  },
  {
   "cell_type": "markdown",
   "id": "4473c104",
   "metadata": {},
   "source": [
    "# Plot the count of each delay"
   ]
  },
  {
   "cell_type": "code",
   "execution_count": 12,
   "id": "0b97411b",
   "metadata": {},
   "outputs": [
    {
     "data": {
      "image/png": "[encoded data removed]",
      "text/plain": [
       "<Figure size 720x576 with 1 Axes>"
      ]
     },
     "metadata": {
      "needs_background": "light"
     },
     "output_type": "display_data"
    }
   ],
   "source": [
    "plt.figure(figsize=(10,8))\n",
    "plt.bar(col_names, lst)\n",
    "plt.xlabel(\"Delay\")\n",
    "plt.ylabel(\"Count\")\n",
    "plt.show()"
   ]
  },
  {
   "cell_type": "markdown",
   "id": "25d24e3e",
   "metadata": {},
   "source": [
    "# Notes"
   ]
  },
  {
   "cell_type": "markdown",
   "id": "ed1d4b81",
   "metadata": {},
   "source": [
    "- The bar chart above illustrates the count of flight affected by each delay reason.\n",
    "- As we see LATE_AIRCRAFT_DELAY and AIRLINE_DELAY contributed the most in flight delays."
   ]
  },
  {
   "cell_type": "markdown",
   "id": "6c892e28",
   "metadata": {},
   "source": [
    "# Plot the time of each delay in hours"
   ]
  },
  {
   "cell_type": "code",
   "execution_count": 13,
   "id": "9fd65007",
   "metadata": {},
   "outputs": [
    {
     "data": {
      "image/png": "[encoded data removed]",
      "text/plain": [
       "<Figure size 720x576 with 1 Axes>"
      ]
     },
     "metadata": {
      "needs_background": "light"
     },
     "output_type": "display_data"
    }
   ],
   "source": [
    "plt.figure(figsize=(10,8))\n",
    "plt.bar(col_names, lst_3)\n",
    "plt.xlabel(\"Delay\")\n",
    "plt.ylabel(\"Time in hours\")\n",
    "plt.show()"
   ]
  },
  {
   "cell_type": "markdown",
   "id": "f2c7c16d",
   "metadata": {},
   "source": [
    "# Notes"
   ]
  },
  {
   "cell_type": "markdown",
   "id": "c7a270d1",
   "metadata": {},
   "source": [
    "- The chart above demonstrates the sum of hours each delay reason contributed to flight delays.\n",
    "- LATE_AIRCRAFT_DELAY was more critical with the highest sum of hours delayed."
   ]
  },
  {
   "cell_type": "markdown",
   "id": "3f33d482",
   "metadata": {},
   "source": [
    "# Boxplot"
   ]
  },
  {
   "cell_type": "code",
   "execution_count": 14,
   "id": "2e8df831",
   "metadata": {},
   "outputs": [
    {
     "data": {
      "image/png": "[encoded data removed]",
      "text/plain": [
       "<Figure size 432x288 with 1 Axes>"
      ]
     },
     "metadata": {
      "needs_background": "light"
     },
     "output_type": "display_data"
    }
   ],
   "source": [
    "plt.boxplot(df[df[col_names[0]]>0][col_names[0]].values,vert=False)\n",
    "plt.title(col_names[0])\n",
    "plt.show()"
   ]
  },
  {
   "cell_type": "code",
   "execution_count": 15,
   "id": "4464f51e",
   "metadata": {},
   "outputs": [
    {
     "data": {
      "image/png": "[encoded data removed]",
      "text/plain": [
       "<Figure size 432x288 with 1 Axes>"
      ]
     },
     "metadata": {
      "needs_background": "light"
     },
     "output_type": "display_data"
    }
   ],
   "source": [
    "plt.boxplot(df[df[col_names[1]]>0][col_names[1]].values,vert=False)\n",
    "plt.title(col_names[1])\n",
    "plt.show()"
   ]
  },
  {
   "cell_type": "code",
   "execution_count": 16,
   "id": "8f549eca",
   "metadata": {},
   "outputs": [
    {
     "data": {
      "image/png": "[encoded data removed]",
      "text/plain": [
       "<Figure size 432x288 with 1 Axes>"
      ]
     },
     "metadata": {
      "needs_background": "light"
     },
     "output_type": "display_data"
    }
   ],
   "source": [
    "plt.boxplot(df[df[col_names[2]]>0][col_names[2]].values,vert=False)\n",
    "plt.title(col_names[2])\n",
    "plt.show()"
   ]
  },
  {
   "cell_type": "code",
   "execution_count": 17,
   "id": "db19f5f8",
   "metadata": {},
   "outputs": [
    {
     "data": {
      "image/png": "[encoded data removed]",
      "text/plain": [
       "<Figure size 432x288 with 1 Axes>"
      ]
     },
     "metadata": {
      "needs_background": "light"
     },
     "output_type": "display_data"
    }
   ],
   "source": [
    "plt.boxplot(df[df[col_names[3]]>0][col_names[3]].values,vert=False)\n",
    "plt.title(col_names[3])\n",
    "plt.show()"
   ]
  },
  {
   "cell_type": "code",
   "execution_count": 18,
   "id": "113d0b4e",
   "metadata": {},
   "outputs": [
    {
     "data": {
      "image/png": "[encoded data removed]",
      "text/plain": [
       "<Figure size 432x288 with 1 Axes>"
      ]
     },
     "metadata": {
      "needs_background": "light"
     },
     "output_type": "display_data"
    }
   ],
   "source": [
    "plt.boxplot(df[df[col_names[4]]>0][col_names[4]].values,vert=False)\n",
    "plt.title(col_names[4])\n",
    "plt.show()"
   ]
  },
  {
   "cell_type": "code",
   "execution_count": 27,
   "id": "0023c0b6",
   "metadata": {},
   "outputs": [
    {
     "data": {
      "image/png": "[encoded data removed]",
      "text/plain": [
       "<Figure size 1440x1080 with 6 Axes>"
      ]
     },
     "metadata": {
      "needs_background": "light"
     },
     "output_type": "display_data"
    }
   ],
   "source": [
    "fig, axs = plt.subplots(2, 3,figsize=(20,15))\n",
    "\n",
    "# basic plot\n",
    "axs[0, 0].boxplot(df[df[col_names[0]]>0][col_names[0]].values, vert= False)\n",
    "axs[0, 0].set_title(col_names[0])\n",
    "\n",
    "# notched plot\n",
    "axs[0, 1].boxplot(df[df[col_names[1]]>0][col_names[1]].values, vert= False)\n",
    "axs[0, 1].set_title(col_names[1])\n",
    "\n",
    "# change outlier point symbols\n",
    "axs[0, 2].boxplot(df[df[col_names[2]]>0][col_names[2]].values, vert= False)\n",
    "axs[0, 2].set_title(col_names[2])\n",
    "\n",
    "# don't show outlier points\n",
    "axs[1, 0].boxplot(df[df[col_names[3]]>0][col_names[3]].values, vert= False)\n",
    "axs[1, 0].set_title(col_names[3])\n",
    "\n",
    "# horizontal boxes\n",
    "axs[1, 1].boxplot(df[df[col_names[4]]>0][col_names[4]].values,vert= False)\n",
    "axs[1, 1].set_title(col_names[4])\n",
    "\n",
    "fig.subplots_adjust(left=0.08, right=0.98, bottom=0.05, top=0.9,\n",
    "                    hspace=0.4, wspace=0.3)"
   ]
  },
  {
   "cell_type": "code",
   "execution_count": 34,
   "id": "2745de6f",
   "metadata": {},
   "outputs": [],
   "source": [
    "def clamp_outliers(df,num_cols):\n",
    "        for col in num_cols:\n",
    "            Q1=np.quantile(df[col],0.25)\n",
    "            Q3=np.quantile(df[col],0.75)\n",
    "            IQR= Q3-Q1\n",
    "            lower_bounder=Q1-(1.5*IQR)\n",
    "            high_bounder= Q3+(1.5*IQR)\n",
    "            lst=df.index[df[col]<lower_bounder | df[col]>high_bounder ]\n",
    "        return lst"
   ]
  },
  {
   "cell_type": "code",
   "execution_count": 39,
   "id": "6221a642",
   "metadata": {},
   "outputs": [],
   "source": [
    "def get_index(df,col):\n",
    "    Q1= df[col].quantile(0.25)\n",
    "    Q3= df[col].quantile(0.75)\n",
    "    IQR= Q3 -Q1\n",
    "    lower_bounder=Q1-(1.5*IQR)\n",
    "    high_bounder= Q3+(1.5*IQR)\n",
    "    lst=df.index[(df[col]<lower_bounder) | (df[col]>high_bounder) ]\n",
    "    return lst\n",
    "    "
   ]
  },
  {
   "cell_type": "code",
   "execution_count": 40,
   "id": "2c22f8f2",
   "metadata": {},
   "outputs": [],
   "source": [
    "index_lst=[]\n",
    "for col in col_names:\n",
    "    index_lst.extend(get_index(df,col))"
   ]
  },
  {
   "cell_type": "code",
   "execution_count": 42,
   "id": "901a932c",
   "metadata": {},
   "outputs": [],
   "source": [
    "def remove_outliers(df,lst):\n",
    "    lst= sorted(set(lst))\n",
    "    df= df.drop(lst)\n",
    "    return df"
   ]
  },
  {
   "cell_type": "code",
   "execution_count": 43,
   "id": "7d3d5098",
   "metadata": {},
   "outputs": [],
   "source": [
    "df=remove_outliers(df,index_lst)"
   ]
  },
  {
   "cell_type": "code",
   "execution_count": 47,
   "id": "fcc2effc",
   "metadata": {},
   "outputs": [
    {
     "data": {
      "image/png": "[encoded data removed]",
      "text/plain": [
       "<Figure size 432x288 with 1 Axes>"
      ]
     },
     "metadata": {
      "needs_background": "light"
     },
     "output_type": "display_data"
    }
   ],
   "source": [
    "plt.boxplot(df[col_names[1]].values,vert=False)\n",
    "plt.title(col_names[1])\n",
    "plt.show()"
   ]
  },
  {
   "cell_type": "code",
   "execution_count": 49,
   "id": "e82f7d88",
   "metadata": {},
   "outputs": [
    {
     "data": {
      "text/plain": [
       "array([ 0., nan])"
      ]
     },
     "execution_count": 49,
     "metadata": {},
     "output_type": "execute_result"
    }
   ],
   "source": [
    "df[col_names[1]].unique()"
   ]
  },
  {
   "cell_type": "code",
   "execution_count": 44,
   "id": "1f7160b8",
   "metadata": {},
   "outputs": [
    {
     "data": {
      "image/png": "[encoded data removed]",
      "text/plain": [
       "<Figure size 1440x1080 with 6 Axes>"
      ]
     },
     "metadata": {
      "needs_background": "light"
     },
     "output_type": "display_data"
    }
   ],
   "source": [
    "fig, axs = plt.subplots(2, 3,figsize=(20,15))\n",
    "\n",
    "# basic plot\n",
    "axs[0, 0].boxplot(df[df[col_names[0]]>0][col_names[0]].values, vert= False)\n",
    "axs[0, 0].set_title(col_names[0])\n",
    "\n",
    "# notched plot\n",
    "axs[0, 1].boxplot(df[df[col_names[1]]>0][col_names[1]].values, vert= False)\n",
    "axs[0, 1].set_title(col_names[1])\n",
    "\n",
    "# change outlier point symbols\n",
    "axs[0, 2].boxplot(df[df[col_names[2]]>0][col_names[2]].values, vert= False)\n",
    "axs[0, 2].set_title(col_names[2])\n",
    "\n",
    "# don't show outlier points\n",
    "axs[1, 0].boxplot(df[df[col_names[3]]>0][col_names[3]].values, vert= False)\n",
    "axs[1, 0].set_title(col_names[3])\n",
    "\n",
    "# horizontal boxes\n",
    "axs[1, 1].boxplot(df[df[col_names[4]]>0][col_names[4]].values,vert= False)\n",
    "axs[1, 1].set_title(col_names[4])\n",
    "\n",
    "fig.subplots_adjust(left=0.08, right=0.98, bottom=0.05, top=0.9,\n",
    "                    hspace=0.4, wspace=0.3)"
   ]
  },
  {
   "cell_type": "markdown",
   "id": "c275b8c1",
   "metadata": {},
   "source": [
    "## '#' Notes"
   ]
  },
  {
   "cell_type": "markdown",
   "id": "211377a8",
   "metadata": {},
   "source": [
    "- In this insights we find LATE_AIRCRAFT_DELAY feature is the largest effect of those features then AIRLINE_DELAY \n",
    "- However if the question requires calculate the significant of those five features on the flight delay then a dependent variable like \"delay status\" will be required, however it is not available in provided dataset"
   ]
  },
  {
   "cell_type": "markdown",
   "id": "816a6aa4",
   "metadata": {},
   "source": [
    "---------------\n",
    "\n",
    "$$ Submitted \\space by: \\space Ahmed \\space Azzam $$"
   ]
  }
 ],
 "metadata": {
  "kernelspec": {
   "display_name": "Python 3 (ipykernel)",
   "language": "python",
   "name": "python3"
  },
  "language_info": {
   "codemirror_mode": {
    "name": "ipython",
    "version": 3
   },
   "file_extension": ".py",
   "mimetype": "text/x-python",
   "name": "python",
   "nbconvert_exporter": "python",
   "pygments_lexer": "ipython3",
   "version": "3.8.8"
  }
 },
 "nbformat": 4,
 "nbformat_minor": 5
}
