{
 "cells": [
  {
   "cell_type": "markdown",
   "id": "5f024fd3",
   "metadata": {},
   "source": [
    "$$ Ahmed \\space Azzam $$\n",
    "\n",
    "$$ Flight \\space Task  \\ $$"
   ]
  },
  {
   "cell_type": "markdown",
   "id": "9bbfbe2f",
   "metadata": {},
   "source": [
    "# `01` Importing Necessary Libraries"
   ]
  },
  {
   "cell_type": "code",
   "execution_count": 1,
   "id": "38324add",
   "metadata": {},
   "outputs": [],
   "source": [
    "import warnings\n",
    "warnings.filterwarnings('ignore')"
   ]
  },
  {
   "cell_type": "markdown",
   "id": "7d3b411f",
   "metadata": {},
   "source": [
    "## `i` Data Manipulation Libraries"
   ]
  },
  {
   "cell_type": "code",
   "execution_count": 2,
   "id": "a69c73cb",
   "metadata": {},
   "outputs": [],
   "source": [
    "import numpy as np\n",
    "import pandas as pd\n",
    "import matplotlib.pyplot as plt\n",
    "import seaborn as sns"
   ]
  },
  {
   "cell_type": "markdown",
   "id": "736cbafa",
   "metadata": {},
   "source": [
    "## `ii` Preprocessing Libraries"
   ]
  },
  {
   "cell_type": "code",
   "execution_count": 3,
   "id": "9f86b0ec",
   "metadata": {},
   "outputs": [],
   "source": [
    "from sklearn.preprocessing import LabelEncoder\n",
    "from scipy.stats import shapiro\n",
    "from sklearn.preprocessing import MinMaxScaler\n",
    "from sklearn.preprocessing import StandardScaler\n",
    "from sklearn.model_selection import train_test_split \n",
    "from imblearn.over_sampling import SMOTE"
   ]
  },
  {
   "cell_type": "markdown",
   "id": "b3e03875",
   "metadata": {},
   "source": [
    "## `iii` Model Libraries"
   ]
  },
  {
   "cell_type": "code",
   "execution_count": 4,
   "id": "fb4ab692",
   "metadata": {},
   "outputs": [],
   "source": [
    "# Decision Tree\n",
    "from sklearn.tree import DecisionTreeClassifier\n",
    "\n",
    "# Logistic Regression \n",
    "from sklearn.linear_model import LogisticRegression\n",
    "\n",
    "#SVC\n",
    "from sklearn.svm import SVC\n",
    "\n",
    "#Evaluation\n",
    "from sklearn.metrics import confusion_matrix, classification_report"
   ]
  },
  {
   "cell_type": "markdown",
   "id": "f59e13a3",
   "metadata": {},
   "source": [
    "----------------\n",
    "\n",
    "# `02` Loading Data"
   ]
  },
  {
   "cell_type": "code",
   "execution_count": 5,
   "id": "abf18a32",
   "metadata": {},
   "outputs": [],
   "source": [
    "df_flight= pd.read_csv('flights.csv')"
   ]
  },
  {
   "cell_type": "code",
   "execution_count": 6,
   "id": "9e5affb9",
   "metadata": {},
   "outputs": [
    {
     "data": {
      "text/html": [
       "<div>\n",
       "<style scoped>\n",
       "    .dataframe tbody tr th:only-of-type {\n",
       "        vertical-align: middle;\n",
       "    }\n",
       "\n",
       "    .dataframe tbody tr th {\n",
       "        vertical-align: top;\n",
       "    }\n",
       "\n",
       "    .dataframe thead th {\n",
       "        text-align: right;\n",
       "    }\n",
       "</style>\n",
       "<table border=\"1\" class=\"dataframe\">\n",
       "  <thead>\n",
       "    <tr style=\"text-align: right;\">\n",
       "      <th></th>\n",
       "      <th>MONTH</th>\n",
       "      <th>DAY</th>\n",
       "      <th>AIRLINE</th>\n",
       "      <th>FLIGHT_NUMBER</th>\n",
       "      <th>TAIL_NUMBER</th>\n",
       "      <th>ORIGIN_AIRPORT</th>\n",
       "      <th>DESTINATION_AIRPORT</th>\n",
       "      <th>SCHEDULED_TIME</th>\n",
       "      <th>Flight_Status</th>\n",
       "      <th>CANCELLATION_REASON</th>\n",
       "      <th>AIR_SYSTEM_DELAY</th>\n",
       "      <th>SECURITY_DELAY</th>\n",
       "      <th>AIRLINE_DELAY</th>\n",
       "      <th>LATE_AIRCRAFT_DELAY</th>\n",
       "      <th>WEATHER_DELAY</th>\n",
       "      <th>DISTANCE</th>\n",
       "    </tr>\n",
       "  </thead>\n",
       "  <tbody>\n",
       "    <tr>\n",
       "      <th>0</th>\n",
       "      <td>1</td>\n",
       "      <td>1</td>\n",
       "      <td>MQ</td>\n",
       "      <td>3303</td>\n",
       "      <td>N678MQ</td>\n",
       "      <td>DFW</td>\n",
       "      <td>GJT</td>\n",
       "      <td>133.0</td>\n",
       "      <td>0</td>\n",
       "      <td>NaN</td>\n",
       "      <td>0.0</td>\n",
       "      <td>0.0</td>\n",
       "      <td>22.0</td>\n",
       "      <td>22.0</td>\n",
       "      <td>0.0</td>\n",
       "      <td>773</td>\n",
       "    </tr>\n",
       "    <tr>\n",
       "      <th>1</th>\n",
       "      <td>1</td>\n",
       "      <td>1</td>\n",
       "      <td>NK</td>\n",
       "      <td>295</td>\n",
       "      <td>N521NK</td>\n",
       "      <td>ORD</td>\n",
       "      <td>IAH</td>\n",
       "      <td>167.0</td>\n",
       "      <td>0</td>\n",
       "      <td>NaN</td>\n",
       "      <td>26.0</td>\n",
       "      <td>0.0</td>\n",
       "      <td>0.0</td>\n",
       "      <td>0.0</td>\n",
       "      <td>0.0</td>\n",
       "      <td>925</td>\n",
       "    </tr>\n",
       "    <tr>\n",
       "      <th>2</th>\n",
       "      <td>1</td>\n",
       "      <td>1</td>\n",
       "      <td>OO</td>\n",
       "      <td>2610</td>\n",
       "      <td>N866AS</td>\n",
       "      <td>LAX</td>\n",
       "      <td>FAT</td>\n",
       "      <td>55.0</td>\n",
       "      <td>0</td>\n",
       "      <td>NaN</td>\n",
       "      <td>NaN</td>\n",
       "      <td>NaN</td>\n",
       "      <td>NaN</td>\n",
       "      <td>NaN</td>\n",
       "      <td>NaN</td>\n",
       "      <td>209</td>\n",
       "    </tr>\n",
       "    <tr>\n",
       "      <th>3</th>\n",
       "      <td>1</td>\n",
       "      <td>1</td>\n",
       "      <td>OO</td>\n",
       "      <td>5343</td>\n",
       "      <td>N584SW</td>\n",
       "      <td>LAX</td>\n",
       "      <td>SBP</td>\n",
       "      <td>59.0</td>\n",
       "      <td>0</td>\n",
       "      <td>NaN</td>\n",
       "      <td>NaN</td>\n",
       "      <td>NaN</td>\n",
       "      <td>NaN</td>\n",
       "      <td>NaN</td>\n",
       "      <td>NaN</td>\n",
       "      <td>156</td>\n",
       "    </tr>\n",
       "    <tr>\n",
       "      <th>4</th>\n",
       "      <td>1</td>\n",
       "      <td>1</td>\n",
       "      <td>OO</td>\n",
       "      <td>4443</td>\n",
       "      <td>N455SW</td>\n",
       "      <td>CVG</td>\n",
       "      <td>MKE</td>\n",
       "      <td>83.0</td>\n",
       "      <td>0</td>\n",
       "      <td>NaN</td>\n",
       "      <td>NaN</td>\n",
       "      <td>NaN</td>\n",
       "      <td>NaN</td>\n",
       "      <td>NaN</td>\n",
       "      <td>NaN</td>\n",
       "      <td>318</td>\n",
       "    </tr>\n",
       "  </tbody>\n",
       "</table>\n",
       "</div>"
      ],
      "text/plain": [
       "   MONTH  DAY AIRLINE  FLIGHT_NUMBER TAIL_NUMBER ORIGIN_AIRPORT  \\\n",
       "0      1    1      MQ           3303      N678MQ            DFW   \n",
       "1      1    1      NK            295      N521NK            ORD   \n",
       "2      1    1      OO           2610      N866AS            LAX   \n",
       "3      1    1      OO           5343      N584SW            LAX   \n",
       "4      1    1      OO           4443      N455SW            CVG   \n",
       "\n",
       "  DESTINATION_AIRPORT  SCHEDULED_TIME  Flight_Status CANCELLATION_REASON  \\\n",
       "0                 GJT           133.0              0                 NaN   \n",
       "1                 IAH           167.0              0                 NaN   \n",
       "2                 FAT            55.0              0                 NaN   \n",
       "3                 SBP            59.0              0                 NaN   \n",
       "4                 MKE            83.0              0                 NaN   \n",
       "\n",
       "   AIR_SYSTEM_DELAY  SECURITY_DELAY  AIRLINE_DELAY  LATE_AIRCRAFT_DELAY  \\\n",
       "0               0.0             0.0           22.0                 22.0   \n",
       "1              26.0             0.0            0.0                  0.0   \n",
       "2               NaN             NaN            NaN                  NaN   \n",
       "3               NaN             NaN            NaN                  NaN   \n",
       "4               NaN             NaN            NaN                  NaN   \n",
       "\n",
       "   WEATHER_DELAY  DISTANCE  \n",
       "0            0.0       773  \n",
       "1            0.0       925  \n",
       "2            NaN       209  \n",
       "3            NaN       156  \n",
       "4            NaN       318  "
      ]
     },
     "execution_count": 6,
     "metadata": {},
     "output_type": "execute_result"
    }
   ],
   "source": [
    "df_flight.head()"
   ]
  },
  {
   "cell_type": "code",
   "execution_count": 7,
   "id": "541a6096",
   "metadata": {},
   "outputs": [
    {
     "data": {
      "text/plain": [
       "(581746, 16)"
      ]
     },
     "execution_count": 7,
     "metadata": {},
     "output_type": "execute_result"
    }
   ],
   "source": [
    "df_flight.shape"
   ]
  },
  {
   "cell_type": "code",
   "execution_count": 8,
   "id": "ed2ff4c8",
   "metadata": {},
   "outputs": [],
   "source": [
    "num_cols=list(df_flight.describe().columns)\n",
    "object_val=list(set(df_flight.columns)-set(num_cols))"
   ]
  },
  {
   "cell_type": "markdown",
   "id": "2f5a96be",
   "metadata": {},
   "source": [
    "## plot the monthly data"
   ]
  },
  {
   "cell_type": "code",
   "execution_count": 9,
   "id": "89e9dee1",
   "metadata": {},
   "outputs": [
    {
     "data": {
      "image/png": "[encoded data removed]",
      "text/plain": [
       "<Figure size 432x288 with 1 Axes>"
      ]
     },
     "metadata": {
      "needs_background": "light"
     },
     "output_type": "display_data"
    }
   ],
   "source": [
    "plt.style.use('seaborn')\n",
    "labels = ['Jan', 'Feb', 'Mar', 'Apr', 'May', 'Jun', 'Jul', 'Aug', 'Sep', 'Oct', 'Nov', 'Dec']\n",
    "df_flight.groupby('MONTH').count()['FLIGHT_NUMBER'].plot()\n",
    "plt.xlabel(\"Months\")\n",
    "plt.xticks(labels=labels, ticks=np.arange(1,13,1))\n",
    "plt.ylabel(\"Flight Count\")\n",
    "plt.title(\"Monthly Flight Count\")\n",
    "plt.show()"
   ]
  },
  {
   "cell_type": "markdown",
   "id": "80aa195a",
   "metadata": {},
   "source": [
    "# Notes"
   ]
  },
  {
   "cell_type": "markdown",
   "id": "3f4ddaaa",
   "metadata": {},
   "source": [
    "- This chart illustrates the flight count distrbution over the months.\n",
    "- We can observe that February had the lowest number of flights while July recorded the highest number with a gap of 10k flights.\n",
    "- We can guess that for July the reason might be the summer vacation."
   ]
  },
  {
   "cell_type": "markdown",
   "id": "a5b30472",
   "metadata": {},
   "source": [
    "# plot the month distribution on a pie chart"
   ]
  },
  {
   "cell_type": "code",
   "execution_count": 10,
   "id": "fb468bba",
   "metadata": {},
   "outputs": [
    {
     "data": {
      "image/png": "[encoded data removed]",
      "text/plain": [
       "<Figure size 432x288 with 1 Axes>"
      ]
     },
     "metadata": {},
     "output_type": "display_data"
    }
   ],
   "source": [
    "plt.pie(x=df_flight.groupby('MONTH').count()['FLIGHT_NUMBER'], autopct='%1.1f%%', labels=labels)\n",
    "plt.title(\"Monthly Flights Distribution\")\n",
    "plt.show()"
   ]
  },
  {
   "cell_type": "markdown",
   "id": "93761094",
   "metadata": {},
   "source": [
    "## Plot the daily flight data"
   ]
  },
  {
   "cell_type": "code",
   "execution_count": 11,
   "id": "26187801",
   "metadata": {},
   "outputs": [
    {
     "data": {
      "image/png": "[encoded data removed]",
      "text/plain": [
       "<Figure size 864x576 with 1 Axes>"
      ]
     },
     "metadata": {
      "needs_background": "light"
     },
     "output_type": "display_data"
    }
   ],
   "source": [
    "df_flight.groupby('DAY').count()['AIRLINE'].plot(figsize=(12,8))\n",
    "plt.xlabel(\"Number of Days of a Month\")\n",
    "plt.xticks(np.arange(1, 32, 1))\n",
    "plt.ylabel(\"Flight Count\")\n",
    "plt.show()"
   ]
  },
  {
   "cell_type": "markdown",
   "id": "4b40a0d2",
   "metadata": {},
   "source": [
    "# Notes"
   ]
  },
  {
   "cell_type": "markdown",
   "id": "a55b94bd",
   "metadata": {},
   "source": [
    "- The chart above demonstrates the flight count distrbution over the month days.\n",
    "- We can observe that the count is almost consistent along the month days except for the 31st.\n",
    "- The reason might be due to the fact that only 7 months have 31 days."
   ]
  },
  {
   "cell_type": "markdown",
   "id": "6a16bf75",
   "metadata": {},
   "source": [
    "## Plot top 10 'ORIGIN AIRPORTS' on the basis of count"
   ]
  },
  {
   "cell_type": "code",
   "execution_count": 12,
   "id": "e150dd71",
   "metadata": {},
   "outputs": [
    {
     "data": {
      "image/png": "[encoded data removed]",
      "text/plain": [
       "<Figure size 432x288 with 1 Axes>"
      ]
     },
     "metadata": {
      "needs_background": "light"
     },
     "output_type": "display_data"
    }
   ],
   "source": [
    "df_flight['ORIGIN_AIRPORT'].value_counts().sort_values().iloc[-10:].plot(kind='barh')\n",
    "plt.xlabel(\"Airport Count\")\n",
    "plt.ylabel(\"Airports\")\n",
    "plt.title(\"Origin Airport Count\")\n",
    "plt.show()"
   ]
  },
  {
   "cell_type": "markdown",
   "id": "20b4f540",
   "metadata": {},
   "source": [
    "# Notes"
   ]
  },
  {
   "cell_type": "markdown",
   "id": "95d0f3ba",
   "metadata": {},
   "source": [
    "- This bar chart illustrates the top 10 orgin airports based on the flight count.\n",
    "- As we see Atlanta international airport has the highest number of outgoing flights."
   ]
  },
  {
   "cell_type": "markdown",
   "id": "4a5c2c8f",
   "metadata": {},
   "source": [
    "## Plot top 10 'DESTINATION AIRPORTS' on the basis of count"
   ]
  },
  {
   "cell_type": "code",
   "execution_count": 13,
   "id": "acf910ce",
   "metadata": {},
   "outputs": [
    {
     "data": {
      "image/png": "[encoded data removed]",
      "text/plain": [
       "<Figure size 432x288 with 1 Axes>"
      ]
     },
     "metadata": {
      "needs_background": "light"
     },
     "output_type": "display_data"
    }
   ],
   "source": [
    "df_flight['DESTINATION_AIRPORT'].value_counts().sort_values().iloc[-10:].plot(kind='barh')\n",
    "plt.xlabel(\"Airport Count\")\n",
    "plt.ylabel(\"Airports\")\n",
    "plt.title(\"Destination Airport Count\")\n",
    "plt.show()"
   ]
  },
  {
   "cell_type": "markdown",
   "id": "8a91e4ed",
   "metadata": {},
   "source": [
    "# Notes"
   ]
  },
  {
   "cell_type": "markdown",
   "id": "66c5bf64",
   "metadata": {},
   "source": [
    "- This bar chart illustrates the top 10 destination  airports based on the flight count.\n",
    "- As we see Los Angeles International Airport has the highest number of incoming  flights."
   ]
  },
  {
   "cell_type": "markdown",
   "id": "3042781a",
   "metadata": {},
   "source": [
    "## Plot The Distribution of flight_status monthly"
   ]
  },
  {
   "cell_type": "code",
   "execution_count": 14,
   "id": "7e5962de",
   "metadata": {},
   "outputs": [
    {
     "data": {
      "image/png": "[encoded data removed]",
      "text/plain": [
       "<Figure size 1080x576 with 1 Axes>"
      ]
     },
     "metadata": {
      "needs_background": "light"
     },
     "output_type": "display_data"
    }
   ],
   "source": [
    "plt.figure(figsize=(15,8))\n",
    "sns.countplot(data=df_flight, x='MONTH', hue='Flight_Status')\n",
    "plt.xticks(labels=labels, ticks=np.arange(0,12,1))\n",
    "plt.show()"
   ]
  },
  {
   "cell_type": "markdown",
   "id": "2e50fb71",
   "metadata": {},
   "source": [
    "# Notes"
   ]
  },
  {
   "cell_type": "markdown",
   "id": "79aa2da9",
   "metadata": {},
   "source": [
    "- The chart above demonstrates the distrbution of the flight status along each month.\n",
    "- September recorded the lowest number of flight cancellations, while February has the highest."
   ]
  },
  {
   "cell_type": "code",
   "execution_count": 15,
   "id": "f5c54bdd",
   "metadata": {},
   "outputs": [
    {
     "data": {
      "text/plain": [
       "array([[<AxesSubplot:title={'center':'MONTH'}>,\n",
       "        <AxesSubplot:title={'center':'DAY'}>,\n",
       "        <AxesSubplot:title={'center':'FLIGHT_NUMBER'}>],\n",
       "       [<AxesSubplot:title={'center':'SCHEDULED_TIME'}>,\n",
       "        <AxesSubplot:title={'center':'Flight_Status'}>,\n",
       "        <AxesSubplot:title={'center':'AIR_SYSTEM_DELAY'}>],\n",
       "       [<AxesSubplot:title={'center':'SECURITY_DELAY'}>,\n",
       "        <AxesSubplot:title={'center':'AIRLINE_DELAY'}>,\n",
       "        <AxesSubplot:title={'center':'LATE_AIRCRAFT_DELAY'}>],\n",
       "       [<AxesSubplot:title={'center':'WEATHER_DELAY'}>,\n",
       "        <AxesSubplot:title={'center':'DISTANCE'}>, <AxesSubplot:>]],\n",
       "      dtype=object)"
      ]
     },
     "execution_count": 15,
     "metadata": {},
     "output_type": "execute_result"
    },
    {
     "data": {
      "image/png": "[encoded data removed]",
      "text/plain": [
       "<Figure size 1440x1080 with 12 Axes>"
      ]
     },
     "metadata": {
      "needs_background": "light"
     },
     "output_type": "display_data"
    }
   ],
   "source": [
    "df_flight[num_cols].hist(bins = 100, figsize = (20, 15))"
   ]
  },
  {
   "cell_type": "markdown",
   "id": "6a21ff0b",
   "metadata": {},
   "source": [
    "# Notes"
   ]
  },
  {
   "cell_type": "markdown",
   "id": "2e76f409",
   "metadata": {},
   "source": [
    "- As observed from the above histograms, most flights have short distances, hence short scheduled time.\n",
    "- That is visible from the right skewness in both histograms. "
   ]
  },
  {
   "cell_type": "markdown",
   "id": "a6b17f3e",
   "metadata": {},
   "source": [
    "## Plot Corr Matrix"
   ]
  },
  {
   "cell_type": "code",
   "execution_count": 16,
   "id": "f4767c72",
   "metadata": {},
   "outputs": [
    {
     "data": {
      "image/png": "[encoded data removed]",
      "text/plain": [
       "<Figure size 1080x576 with 1 Axes>"
      ]
     },
     "metadata": {
      "needs_background": "light"
     },
     "output_type": "display_data"
    }
   ],
   "source": [
    "corr_matrix = df_flight.corr()\n",
    "plt.figure(figsize=(15,8))\n",
    "sns.heatmap(corr_matrix, annot=True, cbar=False)\n",
    "plt.show()"
   ]
  },
  {
   "cell_type": "markdown",
   "id": "7e4a5506",
   "metadata": {},
   "source": [
    "# Notes"
   ]
  },
  {
   "cell_type": "markdown",
   "id": "a39a680c",
   "metadata": {},
   "source": [
    "- The correlation matrix heatmap shows no significant relations between any features."
   ]
  },
  {
   "cell_type": "markdown",
   "id": "169162fc",
   "metadata": {},
   "source": [
    "----------------\n",
    "\n",
    "# `03` Exploratory Data Analysis (EDA)"
   ]
  },
  {
   "cell_type": "markdown",
   "id": "de504bad",
   "metadata": {},
   "source": [
    "# `i` Check and Delete Null Values"
   ]
  },
  {
   "cell_type": "code",
   "execution_count": 17,
   "id": "5630c362",
   "metadata": {},
   "outputs": [
    {
     "data": {
      "text/html": [
       "<div>\n",
       "<style scoped>\n",
       "    .dataframe tbody tr th:only-of-type {\n",
       "        vertical-align: middle;\n",
       "    }\n",
       "\n",
       "    .dataframe tbody tr th {\n",
       "        vertical-align: top;\n",
       "    }\n",
       "\n",
       "    .dataframe thead th {\n",
       "        text-align: right;\n",
       "    }\n",
       "</style>\n",
       "<table border=\"1\" class=\"dataframe\">\n",
       "  <thead>\n",
       "    <tr style=\"text-align: right;\">\n",
       "      <th></th>\n",
       "      <th>index</th>\n",
       "      <th>null_counts</th>\n",
       "    </tr>\n",
       "  </thead>\n",
       "  <tbody>\n",
       "    <tr>\n",
       "      <th>9</th>\n",
       "      <td>CANCELLATION_REASON</td>\n",
       "      <td>570758</td>\n",
       "    </tr>\n",
       "    <tr>\n",
       "      <th>10</th>\n",
       "      <td>AIR_SYSTEM_DELAY</td>\n",
       "      <td>445682</td>\n",
       "    </tr>\n",
       "    <tr>\n",
       "      <th>11</th>\n",
       "      <td>SECURITY_DELAY</td>\n",
       "      <td>445682</td>\n",
       "    </tr>\n",
       "    <tr>\n",
       "      <th>12</th>\n",
       "      <td>AIRLINE_DELAY</td>\n",
       "      <td>445682</td>\n",
       "    </tr>\n",
       "    <tr>\n",
       "      <th>13</th>\n",
       "      <td>LATE_AIRCRAFT_DELAY</td>\n",
       "      <td>445682</td>\n",
       "    </tr>\n",
       "    <tr>\n",
       "      <th>14</th>\n",
       "      <td>WEATHER_DELAY</td>\n",
       "      <td>445682</td>\n",
       "    </tr>\n",
       "    <tr>\n",
       "      <th>4</th>\n",
       "      <td>TAIL_NUMBER</td>\n",
       "      <td>1428</td>\n",
       "    </tr>\n",
       "    <tr>\n",
       "      <th>7</th>\n",
       "      <td>SCHEDULED_TIME</td>\n",
       "      <td>4</td>\n",
       "    </tr>\n",
       "  </tbody>\n",
       "</table>\n",
       "</div>"
      ],
      "text/plain": [
       "                  index  null_counts\n",
       "9   CANCELLATION_REASON       570758\n",
       "10     AIR_SYSTEM_DELAY       445682\n",
       "11       SECURITY_DELAY       445682\n",
       "12        AIRLINE_DELAY       445682\n",
       "13  LATE_AIRCRAFT_DELAY       445682\n",
       "14        WEATHER_DELAY       445682\n",
       "4           TAIL_NUMBER         1428\n",
       "7        SCHEDULED_TIME            4"
      ]
     },
     "execution_count": 17,
     "metadata": {},
     "output_type": "execute_result"
    }
   ],
   "source": [
    "null_values=df_flight.isna().sum().reset_index().rename(columns={0:\"null_counts\"})\n",
    "null_values[null_values['null_counts']>0].sort_values(by=['null_counts'],ascending=False)"
   ]
  },
  {
   "cell_type": "code",
   "execution_count": 18,
   "id": "b0a7cebb",
   "metadata": {},
   "outputs": [],
   "source": [
    "def remove_null_columns(df,null_values):\n",
    "        null_col=[]\n",
    "        all_values= df.shape[0]\n",
    "        return df.drop(columns=list(df[null_values[null_values['null_counts']>all_values*0.6]['index']].columns),axis=1)"
   ]
  },
  {
   "cell_type": "code",
   "execution_count": 19,
   "id": "449ef0a7",
   "metadata": {},
   "outputs": [],
   "source": [
    "df_flight= remove_null_columns(df_flight,null_values)"
   ]
  },
  {
   "cell_type": "code",
   "execution_count": 20,
   "id": "fe45e904",
   "metadata": {},
   "outputs": [
    {
     "data": {
      "text/html": [
       "<div>\n",
       "<style scoped>\n",
       "    .dataframe tbody tr th:only-of-type {\n",
       "        vertical-align: middle;\n",
       "    }\n",
       "\n",
       "    .dataframe tbody tr th {\n",
       "        vertical-align: top;\n",
       "    }\n",
       "\n",
       "    .dataframe thead th {\n",
       "        text-align: right;\n",
       "    }\n",
       "</style>\n",
       "<table border=\"1\" class=\"dataframe\">\n",
       "  <thead>\n",
       "    <tr style=\"text-align: right;\">\n",
       "      <th></th>\n",
       "      <th>MONTH</th>\n",
       "      <th>DAY</th>\n",
       "      <th>AIRLINE</th>\n",
       "      <th>TAIL_NUMBER</th>\n",
       "      <th>ORIGIN_AIRPORT</th>\n",
       "      <th>DESTINATION_AIRPORT</th>\n",
       "      <th>SCHEDULED_TIME</th>\n",
       "      <th>Flight_Status</th>\n",
       "      <th>DISTANCE</th>\n",
       "    </tr>\n",
       "  </thead>\n",
       "  <tbody>\n",
       "    <tr>\n",
       "      <th>0</th>\n",
       "      <td>1</td>\n",
       "      <td>1</td>\n",
       "      <td>MQ</td>\n",
       "      <td>N678MQ</td>\n",
       "      <td>DFW</td>\n",
       "      <td>GJT</td>\n",
       "      <td>133.0</td>\n",
       "      <td>0</td>\n",
       "      <td>773</td>\n",
       "    </tr>\n",
       "    <tr>\n",
       "      <th>1</th>\n",
       "      <td>1</td>\n",
       "      <td>1</td>\n",
       "      <td>NK</td>\n",
       "      <td>N521NK</td>\n",
       "      <td>ORD</td>\n",
       "      <td>IAH</td>\n",
       "      <td>167.0</td>\n",
       "      <td>0</td>\n",
       "      <td>925</td>\n",
       "    </tr>\n",
       "    <tr>\n",
       "      <th>2</th>\n",
       "      <td>1</td>\n",
       "      <td>1</td>\n",
       "      <td>OO</td>\n",
       "      <td>N866AS</td>\n",
       "      <td>LAX</td>\n",
       "      <td>FAT</td>\n",
       "      <td>55.0</td>\n",
       "      <td>0</td>\n",
       "      <td>209</td>\n",
       "    </tr>\n",
       "    <tr>\n",
       "      <th>3</th>\n",
       "      <td>1</td>\n",
       "      <td>1</td>\n",
       "      <td>OO</td>\n",
       "      <td>N584SW</td>\n",
       "      <td>LAX</td>\n",
       "      <td>SBP</td>\n",
       "      <td>59.0</td>\n",
       "      <td>0</td>\n",
       "      <td>156</td>\n",
       "    </tr>\n",
       "    <tr>\n",
       "      <th>4</th>\n",
       "      <td>1</td>\n",
       "      <td>1</td>\n",
       "      <td>OO</td>\n",
       "      <td>N455SW</td>\n",
       "      <td>CVG</td>\n",
       "      <td>MKE</td>\n",
       "      <td>83.0</td>\n",
       "      <td>0</td>\n",
       "      <td>318</td>\n",
       "    </tr>\n",
       "    <tr>\n",
       "      <th>...</th>\n",
       "      <td>...</td>\n",
       "      <td>...</td>\n",
       "      <td>...</td>\n",
       "      <td>...</td>\n",
       "      <td>...</td>\n",
       "      <td>...</td>\n",
       "      <td>...</td>\n",
       "      <td>...</td>\n",
       "      <td>...</td>\n",
       "    </tr>\n",
       "    <tr>\n",
       "      <th>581741</th>\n",
       "      <td>12</td>\n",
       "      <td>31</td>\n",
       "      <td>B6</td>\n",
       "      <td>N657JB</td>\n",
       "      <td>LAX</td>\n",
       "      <td>BOS</td>\n",
       "      <td>320.0</td>\n",
       "      <td>0</td>\n",
       "      <td>2611</td>\n",
       "    </tr>\n",
       "    <tr>\n",
       "      <th>581742</th>\n",
       "      <td>12</td>\n",
       "      <td>31</td>\n",
       "      <td>B6</td>\n",
       "      <td>N828JB</td>\n",
       "      <td>JFK</td>\n",
       "      <td>PSE</td>\n",
       "      <td>227.0</td>\n",
       "      <td>0</td>\n",
       "      <td>1617</td>\n",
       "    </tr>\n",
       "    <tr>\n",
       "      <th>581743</th>\n",
       "      <td>12</td>\n",
       "      <td>31</td>\n",
       "      <td>B6</td>\n",
       "      <td>N913JB</td>\n",
       "      <td>JFK</td>\n",
       "      <td>SJU</td>\n",
       "      <td>221.0</td>\n",
       "      <td>0</td>\n",
       "      <td>1598</td>\n",
       "    </tr>\n",
       "    <tr>\n",
       "      <th>581744</th>\n",
       "      <td>12</td>\n",
       "      <td>31</td>\n",
       "      <td>B6</td>\n",
       "      <td>N527JB</td>\n",
       "      <td>MCO</td>\n",
       "      <td>SJU</td>\n",
       "      <td>161.0</td>\n",
       "      <td>0</td>\n",
       "      <td>1189</td>\n",
       "    </tr>\n",
       "    <tr>\n",
       "      <th>581745</th>\n",
       "      <td>12</td>\n",
       "      <td>31</td>\n",
       "      <td>B6</td>\n",
       "      <td>N534JB</td>\n",
       "      <td>JFK</td>\n",
       "      <td>BQN</td>\n",
       "      <td>221.0</td>\n",
       "      <td>0</td>\n",
       "      <td>1576</td>\n",
       "    </tr>\n",
       "  </tbody>\n",
       "</table>\n",
       "<p>581746 rows × 9 columns</p>\n",
       "</div>"
      ],
      "text/plain": [
       "        MONTH  DAY AIRLINE TAIL_NUMBER ORIGIN_AIRPORT DESTINATION_AIRPORT  \\\n",
       "0           1    1      MQ      N678MQ            DFW                 GJT   \n",
       "1           1    1      NK      N521NK            ORD                 IAH   \n",
       "2           1    1      OO      N866AS            LAX                 FAT   \n",
       "3           1    1      OO      N584SW            LAX                 SBP   \n",
       "4           1    1      OO      N455SW            CVG                 MKE   \n",
       "...       ...  ...     ...         ...            ...                 ...   \n",
       "581741     12   31      B6      N657JB            LAX                 BOS   \n",
       "581742     12   31      B6      N828JB            JFK                 PSE   \n",
       "581743     12   31      B6      N913JB            JFK                 SJU   \n",
       "581744     12   31      B6      N527JB            MCO                 SJU   \n",
       "581745     12   31      B6      N534JB            JFK                 BQN   \n",
       "\n",
       "        SCHEDULED_TIME  Flight_Status  DISTANCE  \n",
       "0                133.0              0       773  \n",
       "1                167.0              0       925  \n",
       "2                 55.0              0       209  \n",
       "3                 59.0              0       156  \n",
       "4                 83.0              0       318  \n",
       "...                ...            ...       ...  \n",
       "581741           320.0              0      2611  \n",
       "581742           227.0              0      1617  \n",
       "581743           221.0              0      1598  \n",
       "581744           161.0              0      1189  \n",
       "581745           221.0              0      1576  \n",
       "\n",
       "[581746 rows x 9 columns]"
      ]
     },
     "execution_count": 20,
     "metadata": {},
     "output_type": "execute_result"
    }
   ],
   "source": [
    "df_flight.drop(columns=['FLIGHT_NUMBER'], axis=1)"
   ]
  },
  {
   "cell_type": "code",
   "execution_count": 21,
   "id": "339da69e",
   "metadata": {},
   "outputs": [
    {
     "data": {
      "text/plain": [
       "(581746, 10)"
      ]
     },
     "execution_count": 21,
     "metadata": {},
     "output_type": "execute_result"
    }
   ],
   "source": [
    "df_flight.shape"
   ]
  },
  {
   "cell_type": "code",
   "execution_count": 22,
   "id": "66be63cb",
   "metadata": {},
   "outputs": [
    {
     "data": {
      "text/html": [
       "<div>\n",
       "<style scoped>\n",
       "    .dataframe tbody tr th:only-of-type {\n",
       "        vertical-align: middle;\n",
       "    }\n",
       "\n",
       "    .dataframe tbody tr th {\n",
       "        vertical-align: top;\n",
       "    }\n",
       "\n",
       "    .dataframe thead th {\n",
       "        text-align: right;\n",
       "    }\n",
       "</style>\n",
       "<table border=\"1\" class=\"dataframe\">\n",
       "  <thead>\n",
       "    <tr style=\"text-align: right;\">\n",
       "      <th></th>\n",
       "      <th>MONTH</th>\n",
       "      <th>DAY</th>\n",
       "      <th>AIRLINE</th>\n",
       "      <th>FLIGHT_NUMBER</th>\n",
       "      <th>TAIL_NUMBER</th>\n",
       "      <th>ORIGIN_AIRPORT</th>\n",
       "      <th>DESTINATION_AIRPORT</th>\n",
       "      <th>SCHEDULED_TIME</th>\n",
       "      <th>Flight_Status</th>\n",
       "      <th>DISTANCE</th>\n",
       "    </tr>\n",
       "  </thead>\n",
       "  <tbody>\n",
       "    <tr>\n",
       "      <th>0</th>\n",
       "      <td>1</td>\n",
       "      <td>1</td>\n",
       "      <td>MQ</td>\n",
       "      <td>3303</td>\n",
       "      <td>N678MQ</td>\n",
       "      <td>DFW</td>\n",
       "      <td>GJT</td>\n",
       "      <td>133.0</td>\n",
       "      <td>0</td>\n",
       "      <td>773</td>\n",
       "    </tr>\n",
       "    <tr>\n",
       "      <th>1</th>\n",
       "      <td>1</td>\n",
       "      <td>1</td>\n",
       "      <td>NK</td>\n",
       "      <td>295</td>\n",
       "      <td>N521NK</td>\n",
       "      <td>ORD</td>\n",
       "      <td>IAH</td>\n",
       "      <td>167.0</td>\n",
       "      <td>0</td>\n",
       "      <td>925</td>\n",
       "    </tr>\n",
       "    <tr>\n",
       "      <th>2</th>\n",
       "      <td>1</td>\n",
       "      <td>1</td>\n",
       "      <td>OO</td>\n",
       "      <td>2610</td>\n",
       "      <td>N866AS</td>\n",
       "      <td>LAX</td>\n",
       "      <td>FAT</td>\n",
       "      <td>55.0</td>\n",
       "      <td>0</td>\n",
       "      <td>209</td>\n",
       "    </tr>\n",
       "    <tr>\n",
       "      <th>3</th>\n",
       "      <td>1</td>\n",
       "      <td>1</td>\n",
       "      <td>OO</td>\n",
       "      <td>5343</td>\n",
       "      <td>N584SW</td>\n",
       "      <td>LAX</td>\n",
       "      <td>SBP</td>\n",
       "      <td>59.0</td>\n",
       "      <td>0</td>\n",
       "      <td>156</td>\n",
       "    </tr>\n",
       "    <tr>\n",
       "      <th>4</th>\n",
       "      <td>1</td>\n",
       "      <td>1</td>\n",
       "      <td>OO</td>\n",
       "      <td>4443</td>\n",
       "      <td>N455SW</td>\n",
       "      <td>CVG</td>\n",
       "      <td>MKE</td>\n",
       "      <td>83.0</td>\n",
       "      <td>0</td>\n",
       "      <td>318</td>\n",
       "    </tr>\n",
       "  </tbody>\n",
       "</table>\n",
       "</div>"
      ],
      "text/plain": [
       "   MONTH  DAY AIRLINE  FLIGHT_NUMBER TAIL_NUMBER ORIGIN_AIRPORT  \\\n",
       "0      1    1      MQ           3303      N678MQ            DFW   \n",
       "1      1    1      NK            295      N521NK            ORD   \n",
       "2      1    1      OO           2610      N866AS            LAX   \n",
       "3      1    1      OO           5343      N584SW            LAX   \n",
       "4      1    1      OO           4443      N455SW            CVG   \n",
       "\n",
       "  DESTINATION_AIRPORT  SCHEDULED_TIME  Flight_Status  DISTANCE  \n",
       "0                 GJT           133.0              0       773  \n",
       "1                 IAH           167.0              0       925  \n",
       "2                 FAT            55.0              0       209  \n",
       "3                 SBP            59.0              0       156  \n",
       "4                 MKE            83.0              0       318  "
      ]
     },
     "execution_count": 22,
     "metadata": {},
     "output_type": "execute_result"
    }
   ],
   "source": [
    "df_flight.head()"
   ]
  },
  {
   "cell_type": "code",
   "execution_count": 23,
   "id": "d797c2de",
   "metadata": {},
   "outputs": [],
   "source": [
    "df_flight=df_flight.dropna(axis=0)"
   ]
  },
  {
   "cell_type": "code",
   "execution_count": 24,
   "id": "8b9699fd",
   "metadata": {},
   "outputs": [
    {
     "data": {
      "text/html": [
       "<div>\n",
       "<style scoped>\n",
       "    .dataframe tbody tr th:only-of-type {\n",
       "        vertical-align: middle;\n",
       "    }\n",
       "\n",
       "    .dataframe tbody tr th {\n",
       "        vertical-align: top;\n",
       "    }\n",
       "\n",
       "    .dataframe thead th {\n",
       "        text-align: right;\n",
       "    }\n",
       "</style>\n",
       "<table border=\"1\" class=\"dataframe\">\n",
       "  <thead>\n",
       "    <tr style=\"text-align: right;\">\n",
       "      <th></th>\n",
       "      <th>index</th>\n",
       "      <th>null_counts</th>\n",
       "    </tr>\n",
       "  </thead>\n",
       "  <tbody>\n",
       "  </tbody>\n",
       "</table>\n",
       "</div>"
      ],
      "text/plain": [
       "Empty DataFrame\n",
       "Columns: [index, null_counts]\n",
       "Index: []"
      ]
     },
     "execution_count": 24,
     "metadata": {},
     "output_type": "execute_result"
    }
   ],
   "source": [
    "null_values=df_flight.isna().sum().reset_index().rename(columns={0:\"null_counts\"})\n",
    "null_values[null_values['null_counts']>0].sort_values(by=['null_counts'],ascending=False)"
   ]
  },
  {
   "cell_type": "markdown",
   "id": "ebbd21b6",
   "metadata": {},
   "source": [
    "## `ii` Correlation metix after removing null values"
   ]
  },
  {
   "cell_type": "code",
   "execution_count": 25,
   "id": "603433d1",
   "metadata": {},
   "outputs": [
    {
     "data": {
      "image/png": "[encoded data removed]",
      "text/plain": [
       "<Figure size 1080x576 with 1 Axes>"
      ]
     },
     "metadata": {
      "needs_background": "light"
     },
     "output_type": "display_data"
    }
   ],
   "source": [
    "corr_matrix = df_flight.corr()\n",
    "plt.figure(figsize=(15,8))\n",
    "sns.heatmap(corr_matrix, annot=True, cbar=False)\n",
    "plt.show()"
   ]
  },
  {
   "cell_type": "markdown",
   "id": "e4e16757",
   "metadata": {},
   "source": [
    "## `iii` Label Encoding For Categorical Attribute"
   ]
  },
  {
   "cell_type": "code",
   "execution_count": 26,
   "id": "c59d1196",
   "metadata": {},
   "outputs": [],
   "source": [
    "num_cols=list(df_flight.describe().columns)\n",
    "object_val=list(set(df_flight.columns)-set(num_cols))"
   ]
  },
  {
   "cell_type": "code",
   "execution_count": 27,
   "id": "ddbc0709",
   "metadata": {},
   "outputs": [],
   "source": [
    "df_flight[object_val]=df_flight[object_val].apply(LabelEncoder().fit_transform)"
   ]
  },
  {
   "cell_type": "markdown",
   "id": "3b44ba9f",
   "metadata": {},
   "source": [
    "## `iiii` Split the data into training and validation data"
   ]
  },
  {
   "cell_type": "code",
   "execution_count": 28,
   "id": "ffc6ca08",
   "metadata": {},
   "outputs": [],
   "source": [
    "train_data,val_data= train_test_split(df_flight, test_size= 0.20, random_state=0) "
   ]
  },
  {
   "cell_type": "code",
   "execution_count": 29,
   "id": "9292b5d4",
   "metadata": {},
   "outputs": [
    {
     "data": {
      "text/plain": [
       "(464251, 10)"
      ]
     },
     "execution_count": 29,
     "metadata": {},
     "output_type": "execute_result"
    }
   ],
   "source": [
    "train_data.shape"
   ]
  },
  {
   "cell_type": "code",
   "execution_count": 30,
   "id": "64721cf1",
   "metadata": {},
   "outputs": [
    {
     "data": {
      "text/plain": [
       "(116063, 10)"
      ]
     },
     "execution_count": 30,
     "metadata": {},
     "output_type": "execute_result"
    }
   ],
   "source": [
    "val_data.shape"
   ]
  },
  {
   "cell_type": "code",
   "execution_count": 31,
   "id": "2d1b5acf",
   "metadata": {},
   "outputs": [
    {
     "name": "stdout",
     "output_type": "stream",
     "text": [
      "<class 'pandas.core.frame.DataFrame'>\n",
      "Int64Index: 464251 entries, 373646 to 306774\n",
      "Data columns (total 10 columns):\n",
      " #   Column               Non-Null Count   Dtype  \n",
      "---  ------               --------------   -----  \n",
      " 0   MONTH                464251 non-null  int64  \n",
      " 1   DAY                  464251 non-null  int64  \n",
      " 2   AIRLINE              464251 non-null  int32  \n",
      " 3   FLIGHT_NUMBER        464251 non-null  int64  \n",
      " 4   TAIL_NUMBER          464251 non-null  int32  \n",
      " 5   ORIGIN_AIRPORT       464251 non-null  int32  \n",
      " 6   DESTINATION_AIRPORT  464251 non-null  int32  \n",
      " 7   SCHEDULED_TIME       464251 non-null  float64\n",
      " 8   Flight_Status        464251 non-null  int64  \n",
      " 9   DISTANCE             464251 non-null  int64  \n",
      "dtypes: float64(1), int32(4), int64(5)\n",
      "memory usage: 31.9 MB\n"
     ]
    }
   ],
   "source": [
    "train_data.info()"
   ]
  },
  {
   "cell_type": "code",
   "execution_count": 32,
   "id": "cd33f6d7",
   "metadata": {},
   "outputs": [
    {
     "data": {
      "text/html": [
       "<div>\n",
       "<style scoped>\n",
       "    .dataframe tbody tr th:only-of-type {\n",
       "        vertical-align: middle;\n",
       "    }\n",
       "\n",
       "    .dataframe tbody tr th {\n",
       "        vertical-align: top;\n",
       "    }\n",
       "\n",
       "    .dataframe thead th {\n",
       "        text-align: right;\n",
       "    }\n",
       "</style>\n",
       "<table border=\"1\" class=\"dataframe\">\n",
       "  <thead>\n",
       "    <tr style=\"text-align: right;\">\n",
       "      <th></th>\n",
       "      <th>MONTH</th>\n",
       "      <th>DAY</th>\n",
       "      <th>AIRLINE</th>\n",
       "      <th>FLIGHT_NUMBER</th>\n",
       "      <th>TAIL_NUMBER</th>\n",
       "      <th>ORIGIN_AIRPORT</th>\n",
       "      <th>DESTINATION_AIRPORT</th>\n",
       "      <th>SCHEDULED_TIME</th>\n",
       "      <th>Flight_Status</th>\n",
       "      <th>DISTANCE</th>\n",
       "    </tr>\n",
       "  </thead>\n",
       "  <tbody>\n",
       "    <tr>\n",
       "      <th>373646</th>\n",
       "      <td>8</td>\n",
       "      <td>20</td>\n",
       "      <td>9</td>\n",
       "      <td>4694</td>\n",
       "      <td>3632</td>\n",
       "      <td>176</td>\n",
       "      <td>291</td>\n",
       "      <td>48.0</td>\n",
       "      <td>0</td>\n",
       "      <td>113</td>\n",
       "    </tr>\n",
       "    <tr>\n",
       "      <th>385385</th>\n",
       "      <td>8</td>\n",
       "      <td>27</td>\n",
       "      <td>13</td>\n",
       "      <td>2449</td>\n",
       "      <td>707</td>\n",
       "      <td>155</td>\n",
       "      <td>345</td>\n",
       "      <td>95.0</td>\n",
       "      <td>0</td>\n",
       "      <td>406</td>\n",
       "    </tr>\n",
       "    <tr>\n",
       "      <th>40504</th>\n",
       "      <td>1</td>\n",
       "      <td>27</td>\n",
       "      <td>13</td>\n",
       "      <td>4210</td>\n",
       "      <td>3788</td>\n",
       "      <td>236</td>\n",
       "      <td>458</td>\n",
       "      <td>120.0</td>\n",
       "      <td>1</td>\n",
       "      <td>838</td>\n",
       "    </tr>\n",
       "    <tr>\n",
       "      <th>411287</th>\n",
       "      <td>9</td>\n",
       "      <td>13</td>\n",
       "      <td>13</td>\n",
       "      <td>459</td>\n",
       "      <td>715</td>\n",
       "      <td>133</td>\n",
       "      <td>507</td>\n",
       "      <td>95.0</td>\n",
       "      <td>0</td>\n",
       "      <td>481</td>\n",
       "    </tr>\n",
       "    <tr>\n",
       "      <th>18082</th>\n",
       "      <td>1</td>\n",
       "      <td>12</td>\n",
       "      <td>5</td>\n",
       "      <td>1276</td>\n",
       "      <td>4467</td>\n",
       "      <td>235</td>\n",
       "      <td>488</td>\n",
       "      <td>139.0</td>\n",
       "      <td>0</td>\n",
       "      <td>861</td>\n",
       "    </tr>\n",
       "  </tbody>\n",
       "</table>\n",
       "</div>"
      ],
      "text/plain": [
       "        MONTH  DAY  AIRLINE  FLIGHT_NUMBER  TAIL_NUMBER  ORIGIN_AIRPORT  \\\n",
       "373646      8   20        9           4694         3632             176   \n",
       "385385      8   27       13           2449          707             155   \n",
       "40504       1   27       13           4210         3788             236   \n",
       "411287      9   13       13            459          715             133   \n",
       "18082       1   12        5           1276         4467             235   \n",
       "\n",
       "        DESTINATION_AIRPORT  SCHEDULED_TIME  Flight_Status  DISTANCE  \n",
       "373646                  291            48.0              0       113  \n",
       "385385                  345            95.0              0       406  \n",
       "40504                   458           120.0              1       838  \n",
       "411287                  507            95.0              0       481  \n",
       "18082                   488           139.0              0       861  "
      ]
     },
     "execution_count": 32,
     "metadata": {},
     "output_type": "execute_result"
    }
   ],
   "source": [
    "train_data.head()"
   ]
  },
  {
   "cell_type": "markdown",
   "id": "81a3d74c",
   "metadata": {},
   "source": [
    "----------------\n",
    "\n",
    "# `04` Models"
   ]
  },
  {
   "cell_type": "markdown",
   "id": "1af8d627",
   "metadata": {},
   "source": [
    "## `i` Decision Tree Model"
   ]
  },
  {
   "cell_type": "code",
   "execution_count": 33,
   "id": "6bf334ea",
   "metadata": {},
   "outputs": [
    {
     "data": {
      "text/plain": [
       "<AxesSubplot:xlabel='Flight_Status', ylabel='count'>"
      ]
     },
     "execution_count": 33,
     "metadata": {},
     "output_type": "execute_result"
    },
    {
     "data": {
      "image/png": "[encoded data removed]",
      "text/plain": [
       "<Figure size 432x288 with 1 Axes>"
      ]
     },
     "metadata": {
      "needs_background": "light"
     },
     "output_type": "display_data"
    }
   ],
   "source": [
    "sns.countplot(train_data.Flight_Status)"
   ]
  },
  {
   "cell_type": "code",
   "execution_count": 34,
   "id": "45f5316b",
   "metadata": {},
   "outputs": [],
   "source": [
    "X_train=train_data.drop(columns=['Flight_Status'],axis=1)\n",
    "y_train= train_data['Flight_Status']\n",
    "X_val=val_data.drop(columns=['Flight_Status'],axis=1)\n",
    "y_val= val_data['Flight_Status']"
   ]
  },
  {
   "cell_type": "code",
   "execution_count": 36,
   "id": "5c4dbaec",
   "metadata": {},
   "outputs": [
    {
     "name": "stdout",
     "output_type": "stream",
     "text": [
      "1.0\n",
      "0.9759182512945556\n",
      "[[112855   1330]\n",
      " [  1465    413]]\n",
      "\n",
      "\n",
      "\n",
      "              precision    recall  f1-score   support\n",
      "\n",
      "           0       0.99      0.99      0.99    114185\n",
      "           1       0.24      0.22      0.23      1878\n",
      "\n",
      "    accuracy                           0.98    116063\n",
      "   macro avg       0.61      0.60      0.61    116063\n",
      "weighted avg       0.98      0.98      0.98    116063\n",
      "\n"
     ]
    }
   ],
   "source": [
    "model=DecisionTreeClassifier(class_weight='balanced')\n",
    "model.fit(X_train,y_train)\n",
    "print(model.score(X_train,y_train))\n",
    "pred=model.predict(X_val)\n",
    "print(model.score(X_val,y_val))\n",
    "print(confusion_matrix(y_val,pred))\n",
    "print(\"\\n\\n\")\n",
    "print(classification_report(y_val,pred))"
   ]
  },
  {
   "cell_type": "markdown",
   "id": "05d6b29c",
   "metadata": {},
   "source": [
    "# Notes"
   ]
  },
  {
   "cell_type": "markdown",
   "id": "d8b2505a",
   "metadata": {},
   "source": [
    "- We used decision tree model with class weight parameter set to balanced to mitigate the imbalance in dataset.\n",
    "- The classification score was highly affected by the imbalance and we can see that in the precision, recall, and f1 score of the minority class (cancelled flight).\n",
    "- However this score is the best we could get through all the models."
   ]
  },
  {
   "cell_type": "markdown",
   "id": "cbe426cf",
   "metadata": {},
   "source": [
    "##  Decision Tree Model With OverSampling"
   ]
  },
  {
   "cell_type": "code",
   "execution_count": 37,
   "id": "dd19e098",
   "metadata": {},
   "outputs": [],
   "source": [
    "oversampling=SMOTE()\n",
    "X_train_resample,y_train_resample=oversampling.fit_resample(X_train,y_train)"
   ]
  },
  {
   "cell_type": "code",
   "execution_count": 38,
   "id": "302aec4c",
   "metadata": {},
   "outputs": [
    {
     "data": {
      "text/plain": [
       "<AxesSubplot:xlabel='Flight_Status', ylabel='count'>"
      ]
     },
     "execution_count": 38,
     "metadata": {},
     "output_type": "execute_result"
    },
    {
     "data": {
      "image/png": "[encoded data removed]",
      "text/plain": [
       "<Figure size 432x288 with 1 Axes>"
      ]
     },
     "metadata": {
      "needs_background": "light"
     },
     "output_type": "display_data"
    }
   ],
   "source": [
    "import seaborn as sns\n",
    "sns.countplot(y_train_resample)"
   ]
  },
  {
   "cell_type": "code",
   "execution_count": 39,
   "id": "9439559a",
   "metadata": {},
   "outputs": [
    {
     "name": "stdout",
     "output_type": "stream",
     "text": [
      "0.9998915836021841\n",
      "0.9528187277599235\n",
      "[[110241   3944]\n",
      " [  1532    346]]\n",
      "\n",
      "\n",
      "\n",
      "              precision    recall  f1-score   support\n",
      "\n",
      "           0       0.99      0.97      0.98    114185\n",
      "           1       0.08      0.18      0.11      1878\n",
      "\n",
      "    accuracy                           0.95    116063\n",
      "   macro avg       0.53      0.57      0.54    116063\n",
      "weighted avg       0.97      0.95      0.96    116063\n",
      "\n"
     ]
    }
   ],
   "source": [
    "model=DecisionTreeClassifier()\n",
    "model.fit(X_train_resample,y_train_resample)\n",
    "print(model.score(X_train_resample,y_train_resample))\n",
    "pred=model.predict(X_val)\n",
    "print(model.score(X_val,y_val))\n",
    "print(confusion_matrix(y_val,pred))\n",
    "print(\"\\n\\n\")\n",
    "print(classification_report(y_val,pred))"
   ]
  },
  {
   "cell_type": "markdown",
   "id": "550121da",
   "metadata": {},
   "source": [
    "# Notes"
   ]
  },
  {
   "cell_type": "markdown",
   "id": "220522a9",
   "metadata": {},
   "source": [
    "- As an alternative to balanced class weight parameter, we tried using oversampling technique to handle the imbalance.\n",
    "- However, due to the huge gap between the records in the two classes, the model performance got worse as expected. "
   ]
  },
  {
   "cell_type": "markdown",
   "id": "c9873411",
   "metadata": {},
   "source": [
    "## `ii` Logistic Regression"
   ]
  },
  {
   "cell_type": "code",
   "execution_count": 40,
   "id": "8d5394a8",
   "metadata": {},
   "outputs": [],
   "source": [
    "train_data,val_data= train_test_split(df_flight, test_size= 0.20, random_state=0) "
   ]
  },
  {
   "cell_type": "markdown",
   "id": "df3689d0",
   "metadata": {},
   "source": [
    "- Shapiro test to check if feature is normaly distributed or not "
   ]
  },
  {
   "cell_type": "code",
   "execution_count": 41,
   "id": "daecaeb8",
   "metadata": {},
   "outputs": [],
   "source": [
    "def check_normal_dist_shapiro(df,num_cols,alpha = 0.01):\n",
    "    feats_std_scale = []\n",
    "    feats_min_max_scale = []\n",
    "    sample_data  = df.sample(replace = False, n= 500)\n",
    "    for col in num_cols:\n",
    "        stat, p = shapiro(sample_data[col])\n",
    "        if p>alpha:\n",
    "            feats_std_scale.append(col)\n",
    "        else:\n",
    "            feats_min_max_scale.append(col)\n",
    "    return feats_min_max_scale,feats_std_scale"
   ]
  },
  {
   "cell_type": "code",
   "execution_count": 42,
   "id": "1bc61cc2",
   "metadata": {},
   "outputs": [],
   "source": [
    "feats_min_max_scale,feats_std_scale =check_normal_dist_shapiro(train_data,num_cols)"
   ]
  },
  {
   "cell_type": "code",
   "execution_count": 43,
   "id": "3bf9c712",
   "metadata": {},
   "outputs": [
    {
     "name": "stdout",
     "output_type": "stream",
     "text": [
      "['MONTH', 'DAY', 'FLIGHT_NUMBER', 'SCHEDULED_TIME', 'Flight_Status', 'DISTANCE']\n",
      "[]\n"
     ]
    }
   ],
   "source": [
    "print(feats_min_max_scale)\n",
    "print(feats_std_scale)"
   ]
  },
  {
   "cell_type": "code",
   "execution_count": 44,
   "id": "4b5af7c1",
   "metadata": {},
   "outputs": [],
   "source": [
    "min_max_scaler = MinMaxScaler()\n",
    "train_data[num_cols]=min_max_scaler.fit_transform(train_data[num_cols])\n",
    "val_data[num_cols]= min_max_scaler.transform(val_data[num_cols])"
   ]
  },
  {
   "cell_type": "code",
   "execution_count": 45,
   "id": "59c3a078",
   "metadata": {},
   "outputs": [
    {
     "data": {
      "text/html": [
       "<div>\n",
       "<style scoped>\n",
       "    .dataframe tbody tr th:only-of-type {\n",
       "        vertical-align: middle;\n",
       "    }\n",
       "\n",
       "    .dataframe tbody tr th {\n",
       "        vertical-align: top;\n",
       "    }\n",
       "\n",
       "    .dataframe thead th {\n",
       "        text-align: right;\n",
       "    }\n",
       "</style>\n",
       "<table border=\"1\" class=\"dataframe\">\n",
       "  <thead>\n",
       "    <tr style=\"text-align: right;\">\n",
       "      <th></th>\n",
       "      <th>MONTH</th>\n",
       "      <th>DAY</th>\n",
       "      <th>AIRLINE</th>\n",
       "      <th>FLIGHT_NUMBER</th>\n",
       "      <th>TAIL_NUMBER</th>\n",
       "      <th>ORIGIN_AIRPORT</th>\n",
       "      <th>DESTINATION_AIRPORT</th>\n",
       "      <th>SCHEDULED_TIME</th>\n",
       "      <th>Flight_Status</th>\n",
       "      <th>DISTANCE</th>\n",
       "    </tr>\n",
       "  </thead>\n",
       "  <tbody>\n",
       "    <tr>\n",
       "      <th>373646</th>\n",
       "      <td>0.636364</td>\n",
       "      <td>0.633333</td>\n",
       "      <td>9</td>\n",
       "      <td>0.631579</td>\n",
       "      <td>3632</td>\n",
       "      <td>176</td>\n",
       "      <td>291</td>\n",
       "      <td>0.032316</td>\n",
       "      <td>0.0</td>\n",
       "      <td>0.009397</td>\n",
       "    </tr>\n",
       "    <tr>\n",
       "      <th>385385</th>\n",
       "      <td>0.636364</td>\n",
       "      <td>0.866667</td>\n",
       "      <td>13</td>\n",
       "      <td>0.329385</td>\n",
       "      <td>707</td>\n",
       "      <td>155</td>\n",
       "      <td>345</td>\n",
       "      <td>0.116697</td>\n",
       "      <td>0.0</td>\n",
       "      <td>0.069254</td>\n",
       "    </tr>\n",
       "    <tr>\n",
       "      <th>40504</th>\n",
       "      <td>0.000000</td>\n",
       "      <td>0.866667</td>\n",
       "      <td>13</td>\n",
       "      <td>0.566429</td>\n",
       "      <td>3788</td>\n",
       "      <td>236</td>\n",
       "      <td>458</td>\n",
       "      <td>0.161580</td>\n",
       "      <td>1.0</td>\n",
       "      <td>0.157508</td>\n",
       "    </tr>\n",
       "    <tr>\n",
       "      <th>411287</th>\n",
       "      <td>0.727273</td>\n",
       "      <td>0.400000</td>\n",
       "      <td>13</td>\n",
       "      <td>0.061516</td>\n",
       "      <td>715</td>\n",
       "      <td>133</td>\n",
       "      <td>507</td>\n",
       "      <td>0.116697</td>\n",
       "      <td>0.0</td>\n",
       "      <td>0.084576</td>\n",
       "    </tr>\n",
       "    <tr>\n",
       "      <th>18082</th>\n",
       "      <td>0.000000</td>\n",
       "      <td>0.366667</td>\n",
       "      <td>5</td>\n",
       "      <td>0.171490</td>\n",
       "      <td>4467</td>\n",
       "      <td>235</td>\n",
       "      <td>488</td>\n",
       "      <td>0.195691</td>\n",
       "      <td>0.0</td>\n",
       "      <td>0.162206</td>\n",
       "    </tr>\n",
       "  </tbody>\n",
       "</table>\n",
       "</div>"
      ],
      "text/plain": [
       "           MONTH       DAY  AIRLINE  FLIGHT_NUMBER  TAIL_NUMBER  \\\n",
       "373646  0.636364  0.633333        9       0.631579         3632   \n",
       "385385  0.636364  0.866667       13       0.329385          707   \n",
       "40504   0.000000  0.866667       13       0.566429         3788   \n",
       "411287  0.727273  0.400000       13       0.061516          715   \n",
       "18082   0.000000  0.366667        5       0.171490         4467   \n",
       "\n",
       "        ORIGIN_AIRPORT  DESTINATION_AIRPORT  SCHEDULED_TIME  Flight_Status  \\\n",
       "373646             176                  291        0.032316            0.0   \n",
       "385385             155                  345        0.116697            0.0   \n",
       "40504              236                  458        0.161580            1.0   \n",
       "411287             133                  507        0.116697            0.0   \n",
       "18082              235                  488        0.195691            0.0   \n",
       "\n",
       "        DISTANCE  \n",
       "373646  0.009397  \n",
       "385385  0.069254  \n",
       "40504   0.157508  \n",
       "411287  0.084576  \n",
       "18082   0.162206  "
      ]
     },
     "execution_count": 45,
     "metadata": {},
     "output_type": "execute_result"
    }
   ],
   "source": [
    "train_data.head()"
   ]
  },
  {
   "cell_type": "code",
   "execution_count": 46,
   "id": "42a6a5f1",
   "metadata": {},
   "outputs": [],
   "source": [
    "X_train=train_data.drop(columns=['Flight_Status'],axis=1)\n",
    "y_train= train_data['Flight_Status']\n",
    "X_val=val_data.drop(columns=['Flight_Status'],axis=1)\n",
    "y_val= val_data['Flight_Status']"
   ]
  },
  {
   "cell_type": "code",
   "execution_count": 47,
   "id": "03b5061f",
   "metadata": {},
   "outputs": [
    {
     "name": "stdout",
     "output_type": "stream",
     "text": [
      "0.9834615326622883\n",
      "0.9838191327124062\n",
      "[[114185      0]\n",
      " [  1878      0]]\n",
      "\n",
      "\n",
      "\n",
      "              precision    recall  f1-score   support\n",
      "\n",
      "         0.0       0.98      1.00      0.99    114185\n",
      "         1.0       0.00      0.00      0.00      1878\n",
      "\n",
      "    accuracy                           0.98    116063\n",
      "   macro avg       0.49      0.50      0.50    116063\n",
      "weighted avg       0.97      0.98      0.98    116063\n",
      "\n"
     ]
    }
   ],
   "source": [
    "model = LogisticRegression()\n",
    "model.fit(X_train,y_train)\n",
    "print(model.score(X_train,y_train))\n",
    "pred=model.predict(X_val)\n",
    "print(model.score(X_val,y_val))\n",
    "print(confusion_matrix(y_val,pred))\n",
    "print(\"\\n\\n\")\n",
    "print(classification_report(y_val,pred))\n"
   ]
  },
  {
   "cell_type": "markdown",
   "id": "d9b22c4c",
   "metadata": {},
   "source": [
    "# Notes"
   ]
  },
  {
   "cell_type": "markdown",
   "id": "cd277f1b",
   "metadata": {},
   "source": [
    "- We also tried using logistic regression model to classify the data.\n",
    "- The model performance was much worse than decision tree model and the model classified all the records as the majority class  (Not cancelled)."
   ]
  },
  {
   "cell_type": "markdown",
   "id": "b305a954",
   "metadata": {},
   "source": [
    "##  Logistic Regression with oversampling"
   ]
  },
  {
   "cell_type": "code",
   "execution_count": 48,
   "id": "acecc98e",
   "metadata": {},
   "outputs": [],
   "source": [
    "oversampling=SMOTE()\n",
    "X_train_resample,y_train_resample=oversampling.fit_resample(X_train,y_train)"
   ]
  },
  {
   "cell_type": "code",
   "execution_count": 49,
   "id": "ec20ed48",
   "metadata": {},
   "outputs": [
    {
     "name": "stdout",
     "output_type": "stream",
     "text": [
      "0.6630845450782241\n",
      "0.6673789235156768\n",
      "[[76296 37889]\n",
      " [  716  1162]]\n",
      "\n",
      "\n",
      "\n",
      "              precision    recall  f1-score   support\n",
      "\n",
      "         0.0       0.99      0.67      0.80    114185\n",
      "         1.0       0.03      0.62      0.06      1878\n",
      "\n",
      "    accuracy                           0.67    116063\n",
      "   macro avg       0.51      0.64      0.43    116063\n",
      "weighted avg       0.98      0.67      0.79    116063\n",
      "\n"
     ]
    }
   ],
   "source": [
    "model = LogisticRegression()\n",
    "model.fit(X_train_resample,y_train_resample)\n",
    "print(model.score(X_train_resample,y_train_resample))\n",
    "pred=model.predict(X_val)\n",
    "print(model.score(X_val,y_val))\n",
    "print(confusion_matrix(y_val,pred))\n",
    "print(\"\\n\\n\")\n",
    "print(classification_report(y_val,pred))"
   ]
  },
  {
   "cell_type": "markdown",
   "id": "e1db5c78",
   "metadata": {},
   "source": [
    "# Notes"
   ]
  },
  {
   "cell_type": "markdown",
   "id": "50538b0b",
   "metadata": {},
   "source": [
    "- Using oversampling technique along with logistic regression model, we noticed a decline in the model performance for the majority class with a slight improvement in the minority class recall.\n",
    "- The model performance was not satisfactory even with oversampling."
   ]
  },
  {
   "cell_type": "markdown",
   "id": "2d0dd431",
   "metadata": {},
   "source": [
    "##  `iii` Support Vector Classifier"
   ]
  },
  {
   "cell_type": "code",
   "execution_count": 50,
   "id": "eb9fdf58",
   "metadata": {},
   "outputs": [
    {
     "name": "stdout",
     "output_type": "stream",
     "text": [
      "0.9834615326622883\n",
      "0.9838191327124062\n",
      "[[114185      0]\n",
      " [  1878      0]]\n",
      "\n",
      "\n",
      "\n",
      "              precision    recall  f1-score   support\n",
      "\n",
      "         0.0       0.98      1.00      0.99    114185\n",
      "         1.0       0.00      0.00      0.00      1878\n",
      "\n",
      "    accuracy                           0.98    116063\n",
      "   macro avg       0.49      0.50      0.50    116063\n",
      "weighted avg       0.97      0.98      0.98    116063\n",
      "\n"
     ]
    }
   ],
   "source": [
    "model=SVC()\n",
    "model.fit(X_train,y_train)\n",
    "print(model.score(X_train,y_train))\n",
    "pred=model.predict(X_val)\n",
    "print(model.score(X_val,y_val))\n",
    "print(confusion_matrix(y_val,pred))\n",
    "print(\"\\n\\n\")\n",
    "print(classification_report(y_val,pred))"
   ]
  },
  {
   "cell_type": "markdown",
   "id": "047e0b39",
   "metadata": {},
   "source": [
    "# Notes"
   ]
  },
  {
   "cell_type": "markdown",
   "id": "341c4398",
   "metadata": {},
   "source": [
    "- The support vector classifier performance was not any different from logistic regression model.\n",
    "- The model classified all the records as majority class (Not cancelled)."
   ]
  },
  {
   "cell_type": "code",
   "execution_count": 51,
   "id": "b919408f",
   "metadata": {},
   "outputs": [],
   "source": [
    "# from sklearn.model_selection import GridSearchCV\n",
    "# tree_para = {'kernel':['linear', 'poly', 'rbf', 'sigmoid']}\n",
    "# clf = GridSearchCV(SVC(), tree_para)\n",
    "# clf.fit(X_train,y_train)\n",
    "# print(clf.score(X_train,y_train))\n",
    "# pred=clf.predict(X_val)\n",
    "# print(clf.score(X_val,y_val))\n",
    "# print(confusion_matrix(y_val,pred))\n",
    "# print(\"\\n\\n\")\n",
    "# print(classification_report(y_val,pred))"
   ]
  },
  {
   "cell_type": "markdown",
   "id": "510646d3",
   "metadata": {},
   "source": [
    "## Notes"
   ]
  },
  {
   "cell_type": "markdown",
   "id": "da83a9b1",
   "metadata": {},
   "source": [
    "- I dropped Flight_Number column because I believe every flight has a unique number, so it is not effective.\n",
    "- I dropped CANCELLATION_REASON,AIR_SYSTEM_DELAY,SECURITY_DELAY,AIRLINE_DELAY,LATE_AIRCRAFT_DELAY and WEATHER_DELAY columns because they have more than 80% of null values.\n",
    "- I used label encoding instead of one hot encoding because my computer resoures dosen't fit.\n",
    "- Decision Tree model is the best model of used models.\n",
    "- I tried to use grid search for SVC to get best paramters but unfortunately it takes much time because of my computer resourses."
   ]
  },
  {
   "cell_type": "markdown",
   "id": "ab40bbeb",
   "metadata": {},
   "source": [
    "---------------\n",
    "\n",
    "$$ Submitted \\space by: \\space Ahmed \\space Azzam $$"
   ]
  }
 ],
 "metadata": {
  "kernelspec": {
   "display_name": "Python 3 (ipykernel)",
   "language": "python",
   "name": "python3"
  },
  "language_info": {
   "codemirror_mode": {
    "name": "ipython",
    "version": 3
   },
   "file_extension": ".py",
   "mimetype": "text/x-python",
   "name": "python",
   "nbconvert_exporter": "python",
   "pygments_lexer": "ipython3",
   "version": "3.8.8"
  }
 },
 "nbformat": 4,
 "nbformat_minor": 5
}
